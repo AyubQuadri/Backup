{
 "cells": [
  {
   "cell_type": "code",
   "execution_count": 2,
   "metadata": {
    "collapsed": false
   },
   "outputs": [],
   "source": [
    "# Import the necessary package to process data in JSON format\n",
    "import json\n",
    "from textblob import TextBlob "
   ]
  },
  {
   "cell_type": "code",
   "execution_count": 1,
   "metadata": {
    "collapsed": false
   },
   "outputs": [
    {
     "ename": "ImportError",
     "evalue": "No module named 'pattern'",
     "output_type": "error",
     "traceback": [
      "\u001b[0;31m---------------------------------------------------------------------------\u001b[0m",
      "\u001b[0;31mImportError\u001b[0m                               Traceback (most recent call last)",
      "\u001b[0;32m<ipython-input-1-fee7a5442900>\u001b[0m in \u001b[0;36m<module>\u001b[0;34m()\u001b[0m\n\u001b[1;32m      1\u001b[0m \u001b[1;31m# Import the necessary methods from \"twitter\" library\u001b[0m\u001b[1;33m\u001b[0m\u001b[1;33m\u001b[0m\u001b[0m\n\u001b[1;32m      2\u001b[0m \u001b[1;32mfrom\u001b[0m \u001b[0mtwitter\u001b[0m \u001b[1;32mimport\u001b[0m \u001b[0mTwitter\u001b[0m\u001b[1;33m,\u001b[0m \u001b[0mOAuth\u001b[0m\u001b[1;33m,\u001b[0m \u001b[0mTwitterHTTPError\u001b[0m\u001b[1;33m,\u001b[0m \u001b[0mTwitterStream\u001b[0m\u001b[1;33m\u001b[0m\u001b[0m\n\u001b[0;32m----> 3\u001b[0;31m \u001b[1;32mfrom\u001b[0m \u001b[0mpattern\u001b[0m\u001b[1;33m.\u001b[0m\u001b[0men\u001b[0m \u001b[1;32mimport\u001b[0m \u001b[0msentiment\u001b[0m\u001b[1;33m\u001b[0m\u001b[0m\n\u001b[0m\u001b[1;32m      4\u001b[0m \u001b[1;31m# Variables that contains the user credentials to access Twitter API\u001b[0m\u001b[1;33m\u001b[0m\u001b[1;33m\u001b[0m\u001b[0m\n\u001b[1;32m      5\u001b[0m \u001b[0mACCESS_TOKEN\u001b[0m \u001b[1;33m=\u001b[0m \u001b[1;34m'1018445624-xiy7bObFmrbzDcUxLUXrAXjHPja6y5az8vLJZVz'\u001b[0m\u001b[1;33m\u001b[0m\u001b[0m\n",
      "\u001b[0;31mImportError\u001b[0m: No module named 'pattern'"
     ]
    }
   ],
   "source": [
    "# Import the necessary methods from \"twitter\" library\n",
    "from twitter import Twitter, OAuth, TwitterHTTPError, TwitterStream\n",
    "from pattern.en import sentiment\n",
    "# Variables that contains the user credentials to access Twitter API \n",
    "ACCESS_TOKEN = '1018445624-xiy7bObFmrbzDcUxLUXrAXjHPja6y5az8vLJZVz'\n",
    "ACCESS_SECRET = 'mwImE233p3hGmlYZuSFWEpMGlqYs4GDaazV76fD9SkHPC'\n",
    "CONSUMER_KEY = 'Vncs1DRQk4XFc1nQ216uwzoYm'\n",
    "CONSUMER_SECRET = '1dstIhO5e0fjrAHkMlvsuRcEjw7TRfoucUicQiRIq1XkOF76In'\n",
    "oauth = OAuth(ACCESS_TOKEN, ACCESS_SECRET, CONSUMER_KEY, CONSUMER_SECRET)"
   ]
  },
  {
   "cell_type": "code",
   "execution_count": 15,
   "metadata": {
    "collapsed": false
   },
   "outputs": [],
   "source": [
    "# Initiate the connection to Twitter Streaming API\n",
    "twitter_stream = TwitterStream(auth=oauth)\n",
    "\n",
    "# Get a sample of the public data following through Twitter\n",
    "iterator = twitter_stream.statuses.filter(track=\"BJP, AAP\", language=\"en\")"
   ]
  },
  {
   "cell_type": "code",
   "execution_count": 16,
   "metadata": {
    "collapsed": false
   },
   "outputs": [],
   "source": [
    "pos_ls = []\n",
    "bjp_tweets=[]\n",
    "aap_tweets=[]\n",
    "bjp_sentiment=[]\n",
    "aap_sentiment=[]"
   ]
  },
  {
   "cell_type": "code",
   "execution_count": 17,
   "metadata": {
    "collapsed": false
   },
   "outputs": [],
   "source": [
    "# Print each tweet in the stream to the screen \n",
    "# Here we set it to stop after getting 1000 tweets. \n",
    "# You don't have to set it to stop, but can continue running \n",
    "# the Twitter API to collect data for days or even longer. \n",
    "tweet_count = 25\n",
    "\n",
    "\n",
    "for tweet in iterator:\n",
    "    tweet_count -= 1\n",
    "#    print(tweet['text'])\n",
    "#    pos_ls.append(tweet['text'])\n",
    "    # Twitter Python Tool wraps the data returned by Twitter \n",
    "    # as a TwitterDictResponse object.\n",
    "    # We convert it back to the JSON format to print/score\n",
    "    \n",
    "    with open('tweets.json', 'a') as f:\n",
    "         f.write(json.dumps(tweet))\n",
    "         f.write('\\n')\n",
    "    \n",
    "    sent=sentiment(tweet['text'])\n",
    "    #a=TextBlob(tweet['text'])\n",
    "    #sent=a.sentiment\n",
    "    if sent[0] > 0:\n",
    "        sent = 'pos'\n",
    "    else:\n",
    "        sent = 'neg'\n",
    "#   sent = sentiment(tweet['text'])\n",
    "#   print sent\n",
    "    pos_ls.append(sent)\n",
    "    \n",
    "    \n",
    "    if 'BJP' in tweet['text']:\n",
    "        bjp_tweets.append(tweet['text'])\n",
    "        bjp_sentiment.append(sent)\n",
    "#        with open('tweets1.txt','a') as f:\n",
    "#            f.write(sent+'\\n')\n",
    "    else:\n",
    "        aap_tweets.append(tweet['text'])\n",
    "        aap_sentiment.append(sent)\n",
    "    \n",
    "#       with open('tweets2.txt', 'a') as f:\n",
    "#            f.write(sent+'\\n')\n",
    "            \n",
    "    # The command below will do pretty printing for JSON data, try it out\n",
    "    # print json.dumps(tweet, indent=4)\n",
    "       \n",
    "    if tweet_count <= 0:\n",
    "        break "
   ]
  },
  {
   "cell_type": "code",
   "execution_count": 26,
   "metadata": {
    "collapsed": false
   },
   "outputs": [
    {
     "data": {
      "text/html": [
       "<div>\n",
       "<table border=\"1\" class=\"dataframe\">\n",
       "  <thead>\n",
       "    <tr style=\"text-align: right;\">\n",
       "      <th></th>\n",
       "      <th>bjp_tweet</th>\n",
       "      <th>sentiment</th>\n",
       "    </tr>\n",
       "  </thead>\n",
       "  <tbody>\n",
       "    <tr>\n",
       "      <th>0</th>\n",
       "      <td>RT @KiranKS: Modi already has 3 BJP CMs younge...</td>\n",
       "      <td>neg</td>\n",
       "    </tr>\n",
       "    <tr>\n",
       "      <th>1</th>\n",
       "      <td>RT @madhukishwar: No limit 2 lies &amp;amp;defamat...</td>\n",
       "      <td>pos</td>\n",
       "    </tr>\n",
       "    <tr>\n",
       "      <th>2</th>\n",
       "      <td>@himantabiswa @yogi_adityanath @AmitShah @BJP4...</td>\n",
       "      <td>neg</td>\n",
       "    </tr>\n",
       "    <tr>\n",
       "      <th>3</th>\n",
       "      <td>RT @madhukishwar: No limit 2 lies &amp;amp;defamat...</td>\n",
       "      <td>pos</td>\n",
       "    </tr>\n",
       "    <tr>\n",
       "      <th>4</th>\n",
       "      <td>RT @KanchanGupta: Bogus church attacks... Fake...</td>\n",
       "      <td>neg</td>\n",
       "    </tr>\n",
       "    <tr>\n",
       "      <th>5</th>\n",
       "      <td>RT @BJP4India: Shri @AmitShah has arrived at t...</td>\n",
       "      <td>pos</td>\n",
       "    </tr>\n",
       "    <tr>\n",
       "      <th>6</th>\n",
       "      <td>RT @KiranKS: Modi already has 3 BJP CMs younge...</td>\n",
       "      <td>neg</td>\n",
       "    </tr>\n",
       "    <tr>\n",
       "      <th>7</th>\n",
       "      <td>RT @5Forty3: 2014 and 2017 have demoralized th...</td>\n",
       "      <td>neg</td>\n",
       "    </tr>\n",
       "    <tr>\n",
       "      <th>8</th>\n",
       "      <td>RT @Outlookindia: Tough challenge: #BJP promis...</td>\n",
       "      <td>neg</td>\n",
       "    </tr>\n",
       "    <tr>\n",
       "      <th>9</th>\n",
       "      <td>@itsme1802 media is newsless and useless oppos...</td>\n",
       "      <td>neg</td>\n",
       "    </tr>\n",
       "    <tr>\n",
       "      <th>10</th>\n",
       "      <td>RT @malviyamit: My Member of Parliament and BJ...</td>\n",
       "      <td>neg</td>\n",
       "    </tr>\n",
       "    <tr>\n",
       "      <th>11</th>\n",
       "      <td>RT @AkshayMarathe: BJP doesn't claim to be sec...</td>\n",
       "      <td>neg</td>\n",
       "    </tr>\n",
       "    <tr>\n",
       "      <th>12</th>\n",
       "      <td>@ImranNDar:PDP tied up with  Cong in the past ...</td>\n",
       "      <td>neg</td>\n",
       "    </tr>\n",
       "    <tr>\n",
       "      <th>13</th>\n",
       "      <td>RT @KanchanGupta: Bogus church attacks... Fake...</td>\n",
       "      <td>neg</td>\n",
       "    </tr>\n",
       "    <tr>\n",
       "      <th>14</th>\n",
       "      <td>@gotzerochill abhay dubey is from congress not...</td>\n",
       "      <td>neg</td>\n",
       "    </tr>\n",
       "    <tr>\n",
       "      <th>15</th>\n",
       "      <td>.@IndianExpress The UP elections proved that M...</td>\n",
       "      <td>pos</td>\n",
       "    </tr>\n",
       "    <tr>\n",
       "      <th>16</th>\n",
       "      <td>RT @NehaJoshi1987: Not just a coincidence that...</td>\n",
       "      <td>pos</td>\n",
       "    </tr>\n",
       "  </tbody>\n",
       "</table>\n",
       "</div>"
      ],
      "text/plain": [
       "                                            bjp_tweet sentiment\n",
       "0   RT @KiranKS: Modi already has 3 BJP CMs younge...       neg\n",
       "1   RT @madhukishwar: No limit 2 lies &amp;defamat...       pos\n",
       "2   @himantabiswa @yogi_adityanath @AmitShah @BJP4...       neg\n",
       "3   RT @madhukishwar: No limit 2 lies &amp;defamat...       pos\n",
       "4   RT @KanchanGupta: Bogus church attacks... Fake...       neg\n",
       "5   RT @BJP4India: Shri @AmitShah has arrived at t...       pos\n",
       "6   RT @KiranKS: Modi already has 3 BJP CMs younge...       neg\n",
       "7   RT @5Forty3: 2014 and 2017 have demoralized th...       neg\n",
       "8   RT @Outlookindia: Tough challenge: #BJP promis...       neg\n",
       "9   @itsme1802 media is newsless and useless oppos...       neg\n",
       "10  RT @malviyamit: My Member of Parliament and BJ...       neg\n",
       "11  RT @AkshayMarathe: BJP doesn't claim to be sec...       neg\n",
       "12  @ImranNDar:PDP tied up with  Cong in the past ...       neg\n",
       "13  RT @KanchanGupta: Bogus church attacks... Fake...       neg\n",
       "14  @gotzerochill abhay dubey is from congress not...       neg\n",
       "15  .@IndianExpress The UP elections proved that M...       pos\n",
       "16  RT @NehaJoshi1987: Not just a coincidence that...       pos"
      ]
     },
     "execution_count": 26,
     "metadata": {},
     "output_type": "execute_result"
    }
   ],
   "source": [
    "import pandas as pd;\n",
    "bjp = {'bjp_tweet' : bjp_tweets,'sentiment' :bjp_sentiment}\n",
    "df=pd.DataFrame(bjp)\n",
    "df"
   ]
  },
  {
   "cell_type": "code",
   "execution_count": 27,
   "metadata": {
    "collapsed": false
   },
   "outputs": [
    {
     "data": {
      "text/html": [
       "<div>\n",
       "<table border=\"1\" class=\"dataframe\">\n",
       "  <thead>\n",
       "    <tr style=\"text-align: right;\">\n",
       "      <th></th>\n",
       "      <th>aap_tweet</th>\n",
       "      <th>sentiment</th>\n",
       "    </tr>\n",
       "  </thead>\n",
       "  <tbody>\n",
       "    <tr>\n",
       "      <th>0</th>\n",
       "      <td>RT @IndiaSpeaksPR: Robert Vadra sits at the di...</td>\n",
       "      <td>neg</td>\n",
       "    </tr>\n",
       "    <tr>\n",
       "      <th>1</th>\n",
       "      <td>RT @iAnkurSingh: AAP's Sandeep Kumar took oth ...</td>\n",
       "      <td>pos</td>\n",
       "    </tr>\n",
       "    <tr>\n",
       "      <th>2</th>\n",
       "      <td>RT @India_Policy: Modi fulfilled the first wis...</td>\n",
       "      <td>pos</td>\n",
       "    </tr>\n",
       "    <tr>\n",
       "      <th>3</th>\n",
       "      <td>@legion__group @SV99999 @TajinderBagga \\nTill ...</td>\n",
       "      <td>pos</td>\n",
       "    </tr>\n",
       "    <tr>\n",
       "      <th>4</th>\n",
       "      <td>RT @ExSecular: Sadhus, monks don't have castes...</td>\n",
       "      <td>pos</td>\n",
       "    </tr>\n",
       "    <tr>\n",
       "      <th>5</th>\n",
       "      <td>RT @Rajivmehra27: Bjp's chief ministerial cand...</td>\n",
       "      <td>neg</td>\n",
       "    </tr>\n",
       "    <tr>\n",
       "      <th>6</th>\n",
       "      <td>@mediacrooks &amp;amp; this was her tweet in 2013....</td>\n",
       "      <td>neg</td>\n",
       "    </tr>\n",
       "    <tr>\n",
       "      <th>7</th>\n",
       "      <td>RT @ssingapuri: Says who? You have been taught...</td>\n",
       "      <td>neg</td>\n",
       "    </tr>\n",
       "  </tbody>\n",
       "</table>\n",
       "</div>"
      ],
      "text/plain": [
       "                                           aap_tweet sentiment\n",
       "0  RT @IndiaSpeaksPR: Robert Vadra sits at the di...       neg\n",
       "1  RT @iAnkurSingh: AAP's Sandeep Kumar took oth ...       pos\n",
       "2  RT @India_Policy: Modi fulfilled the first wis...       pos\n",
       "3  @legion__group @SV99999 @TajinderBagga \\nTill ...       pos\n",
       "4  RT @ExSecular: Sadhus, monks don't have castes...       pos\n",
       "5  RT @Rajivmehra27: Bjp's chief ministerial cand...       neg\n",
       "6  @mediacrooks &amp; this was her tweet in 2013....       neg\n",
       "7  RT @ssingapuri: Says who? You have been taught...       neg"
      ]
     },
     "execution_count": 27,
     "metadata": {},
     "output_type": "execute_result"
    }
   ],
   "source": [
    "aap = {'aap_tweet' : aap_tweets,'sentiment' :aap_sentiment}\n",
    "df=pd.DataFrame(aap)\n",
    "df\n",
    "#df.iloc[5]['aap_tweet']\n",
    "#df.iloc[5]\n",
    "#print(aap_sentiment)"
   ]
  },
  {
   "cell_type": "code",
   "execution_count": 28,
   "metadata": {
    "collapsed": false
   },
   "outputs": [
    {
     "data": {
      "text/plain": [
       "Sentiment(polarity=0.7, subjectivity=0.6000000000000001)"
      ]
     },
     "execution_count": 28,
     "metadata": {},
     "output_type": "execute_result"
    }
   ],
   "source": [
    "TextBlob('Its good that the sun rises in the east').sentiment"
   ]
  }
 ],
 "metadata": {
  "anaconda-cloud": {},
  "kernelspec": {
   "display_name": "Python [conda root]",
   "language": "python",
   "name": "conda-root-py"
  },
  "language_info": {
   "codemirror_mode": {
    "name": "ipython",
    "version": 3
   },
   "file_extension": ".py",
   "mimetype": "text/x-python",
   "name": "python",
   "nbconvert_exporter": "python",
   "pygments_lexer": "ipython3",
   "version": "3.5.2"
  }
 },
 "nbformat": 4,
 "nbformat_minor": 1
}
