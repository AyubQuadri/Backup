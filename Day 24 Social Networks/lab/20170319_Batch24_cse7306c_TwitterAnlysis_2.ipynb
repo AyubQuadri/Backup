{
 "cells": [
  {
   "cell_type": "code",
   "execution_count": 2,
   "metadata": {
    "collapsed": false
   },
   "outputs": [],
   "source": [
    "import re\n",
    "import tweepy\n",
    "from tweepy import OAuthHandler\n",
    "from textblob import TextBlob"
   ]
  },
  {
   "cell_type": "code",
   "execution_count": 5,
   "metadata": {
    "collapsed": true
   },
   "outputs": [],
   "source": [
    "consumer_key = 'PV604Uqjxrv17AEWrs3x5qA8m'\n",
    "consumer_secret = 'jIqheTIaXzXtxHH7MiDgrEp2RLS97nh5jVOg6X3ojkj7W6Hp8L'\n",
    "access_token = '754476849447796736-cXVZF6jwv5NVQCGn2xOfAhwqcFJYUTR'\n",
    "access_token_secret = '0SOMRmOvDlIKFn2Umz1MFMmLW5jO8Y3bigynRnqeteAag'\n"
   ]
  },
  {
   "cell_type": "code",
   "execution_count": 6,
   "metadata": {
    "collapsed": false
   },
   "outputs": [],
   "source": [
    "# create OAuthHandler object\n",
    "auth = OAuthHandler(consumer_key, consumer_secret)\n",
    "# set access token and secret\n",
    "auth.set_access_token(access_token, access_token_secret)\n",
    "# create tweepy API object to fetch tweets\n",
    "api = tweepy.API(auth)"
   ]
  },
  {
   "cell_type": "code",
   "execution_count": 7,
   "metadata": {
    "collapsed": false
   },
   "outputs": [],
   "source": [
    "fetched_tweets = api.search(q = \"Donald Trump\", count = 100)\n",
    "#fetched_tweets\n",
    "# parsing tweets one by one\n",
    "tweets=[]\n",
    "for tweet in fetched_tweets:\n",
    "    # empty dictionary to store required params of a tweet\n",
    "    parsed_tweet = {}\n",
    "    # saving text of tweet\n",
    "    parsed_tweet['text'] = tweet.text\n",
    "    # saving sentiment of tweet\n",
    "    tweet=' '.join(re.sub(\"(@[A-Za-z0-9]+)|([^0-9A-Za-z \\t])|(\\w+:\\/\\/\\S+)|((https:?|ftp):\\/\\//)\", \" \", tweet.text).split())\n",
    "    #print(tweet)\n",
    "    analysis = TextBlob(tweet)\n",
    "    #print(analysis)\n",
    "    # set sentiment\n",
    "    if analysis.sentiment.polarity > 0:\n",
    "        parsed_tweet['sentiment'] ='positive'\n",
    "    elif analysis.sentiment.polarity == 0:\n",
    "        parsed_tweet['sentiment']='neutral'\n",
    "    else:\n",
    "        parsed_tweet['sentiment']= 'negative'\n",
    "    #tweets.append(parsed_tweet)\n",
    "    #print(parsed_tweet['sentiment'])\n",
    "       \n",
    "# if tweet has retweets, ensure that it is appended only once\n",
    "    if parsed_tweet not in tweets:\n",
    "        tweets.append(parsed_tweet)\n",
    "    else:\n",
    "        tweets.append(parsed_tweet)\n",
    "\n",
    "# appending parsed tweet to tweets listif tweet.retweet_count > 0:\n",
    "# if tweet has retweets, ensure that it is appended only once\n",
    "if parsed_tweet not in tweets:\n",
    "    tweets.append(parsed_tweet)\n",
    "else:\n",
    "    tweets.append(parsed_tweet)\n"
   ]
  },
  {
   "cell_type": "code",
   "execution_count": 8,
   "metadata": {
    "collapsed": false
   },
   "outputs": [
    {
     "name": "stdout",
     "output_type": "stream",
     "text": [
      "Positive tweets percentage: 3 %\n",
      "Negative tweets percentage: 5 %\n",
      "neutral  tweets percentage: 90 %\n"
     ]
    }
   ],
   "source": [
    "# picking positive tweets from tweets\n",
    "#for tweet in tweets:  \n",
    "#    print(tweet['sentiment'])\n",
    "ptweets = [tweet for tweet in tweets if tweet['sentiment'] == 'positive']\n",
    "# percentage of positive tweets\n",
    "print(\"Positive tweets percentage: {} %\".format(100*len(ptweets)/len(tweets)))\n",
    "# picking negative tweets from tweets\n",
    "ntweets = [tweet for tweet in tweets if tweet['sentiment'] == 'negative']\n",
    "# percentage of negative tweets\n",
    "print(\"Negative tweets percentage: {} %\".format(100*len(ntweets)/len(tweets)))\n",
    "# percentage of neutral tweets\n",
    "t_tweets=len(ntweets)+len(ptweets)\n",
    "n_tweets=len(tweets)-t_tweets\n",
    "print(\"neutral  tweets percentage: {} %\".format(100*n_tweets/len(tweets)))\n",
    "# printing first 5 positive tweets\n",
    "# print(\"\\n\\nPositive tweets:\")\n"
   ]
  },
  {
   "cell_type": "code",
   "execution_count": 9,
   "metadata": {
    "collapsed": false
   },
   "outputs": [
    {
     "name": "stdout",
     "output_type": "stream",
     "text": [
      "RT @BernieSanders: For someone who talked about draining the swamp and standing up to Wall Street, Trump has a funny way of doing so.\n",
      "https…\n",
      "RT @HuffPostUK: Love Actually meets Donald Trump...thanks to 'Hugh Grant' voiced by @DarrenAltman (Credits: @Handface &amp; @DavidSchneider) ht…\n",
      "The Leader of the Free World Meets Donald Trump https://t.co/XLALqbKY7o. How ironic.\n",
      "RT @Latentes: Bruv Donald Trump didnt even cause this much tension &amp; distance between the UK &amp; US as much as Americans hating on Giggs has\n",
      "\n",
      "\n",
      "Negative tweets:\n",
      "RT @dumbassgenius: Angela Merkel has a PhD in quantum chemistry.\n",
      "Donald Trump misspelled \"tap.\"\n",
      "Not exactly a meeting of the minds. https:/…\n",
      "RT @jameshaning: Donald #Trump is a stupid man's idea of a smart man, a poor man's idea of a rich man, and a weak man's idea of a strong ma…\n",
      "“This song is about how Donald Trump thinks he can fuck with me”\n",
      "RT @dumbassgenius: Angela Merkel has a PhD in quantum chemistry.\n",
      "Donald Trump misspelled \"tap.\"\n",
      "Not exactly a meeting of the minds. https:/…\n",
      "RT @Rosie: Why Is Donald Trump So Obsessed With Surveillance? https://t.co/l5kYDXY4iE via @aramroston\n",
      "RT @Rosie: Why Is Donald Trump So Obsessed With Surveillance? https://t.co/l5kYDXY4iE via @aramroston\n"
     ]
    }
   ],
   "source": [
    "for tweet in ptweets[:10]:\n",
    "     print(tweet['text'])\n",
    "# printing first 5 negative tweets\n",
    "print(\"\\n\\nNegative tweets:\")\n",
    "for tweet in ntweets[:10]:\n",
    "     print(tweet['text'])"
   ]
  },
  {
   "cell_type": "code",
   "execution_count": 10,
   "metadata": {
    "collapsed": false
   },
   "outputs": [],
   "source": [
    "# s1=\"hai how are you. I am fine !@gmail.com               01 23     - + % 3\"\n",
    "# s1=' '.join(re.sub(\"(@[A-Za-z0-9]+)|([^0-9A-Za-z \\t])|(\\w+:\\/\\/\\S+)\", \" \",s1).split())\n",
    "# print(s1)\n"
   ]
  }
 ],
 "metadata": {
  "anaconda-cloud": {},
  "kernelspec": {
   "display_name": "Python [default]",
   "language": "python",
   "name": "python2"
  },
  "language_info": {
   "codemirror_mode": {
    "name": "ipython",
    "version": 2
   },
   "file_extension": ".py",
   "mimetype": "text/x-python",
   "name": "python",
   "nbconvert_exporter": "python",
   "pygments_lexer": "ipython2",
   "version": "2.7.12"
  }
 },
 "nbformat": 4,
 "nbformat_minor": 1
}
