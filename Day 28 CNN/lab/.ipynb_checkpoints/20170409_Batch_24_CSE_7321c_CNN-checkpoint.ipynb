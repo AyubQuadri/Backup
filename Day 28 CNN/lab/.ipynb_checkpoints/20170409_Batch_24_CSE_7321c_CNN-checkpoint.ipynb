{
 "cells": [
  {
   "cell_type": "markdown",
   "metadata": {},
   "source": [
    "# CNN on MNIST with keras"
   ]
  },
  {
   "cell_type": "code",
   "execution_count": 1,
   "metadata": {
    "collapsed": true
   },
   "outputs": [],
   "source": [
    "import numpy as np\n",
    "from __future__ import division"
   ]
  },
  {
   "cell_type": "code",
   "execution_count": 2,
   "metadata": {
    "collapsed": false
   },
   "outputs": [],
   "source": [
    "import os"
   ]
  },
  {
   "cell_type": "code",
   "execution_count": 3,
   "metadata": {
    "collapsed": false
   },
   "outputs": [],
   "source": [
    "# mydata = pd.read_csv('train.csv', sep=',')\n",
    "test = np.genfromtxt('test_sample.csv', delimiter=\",\")\n",
    "train = np.genfromtxt('train_sample.csv', delimiter=',')"
   ]
  },
  {
   "cell_type": "code",
   "execution_count": 20,
   "metadata": {
    "collapsed": true
   },
   "outputs": [],
   "source": [
    "# import pandas as pd\n",
    "# test = pd.read_csv('test_sample.csv', delimiter=\",\")\n",
    "# train = pd.read_csv('train_sample.csv', delimiter=',')"
   ]
  },
  {
   "cell_type": "code",
   "execution_count": 5,
   "metadata": {
    "collapsed": false
   },
   "outputs": [
    {
     "name": "stdout",
     "output_type": "stream",
     "text": [
      "(5001, 785)\n",
      "(1001, 785)\n"
     ]
    }
   ],
   "source": [
    "print(train.shape)\n",
    "print(test.shape)"
   ]
  },
  {
   "cell_type": "code",
   "execution_count": 6,
   "metadata": {
    "collapsed": false
   },
   "outputs": [],
   "source": [
    "x_train_1d = train[1:,1:]\n",
    "y_train = train[1:,0]\n",
    "\n",
    "x_test_1d = test[1:,1:]\n",
    "y_test = test[1:,0]"
   ]
  },
  {
   "cell_type": "code",
   "execution_count": 7,
   "metadata": {
    "collapsed": false
   },
   "outputs": [
    {
     "name": "stdout",
     "output_type": "stream",
     "text": [
      "(5000,)\n"
     ]
    }
   ],
   "source": [
    "print(y_train.shape)\n"
   ]
  },
  {
   "cell_type": "code",
   "execution_count": 8,
   "metadata": {
    "collapsed": false
   },
   "outputs": [
    {
     "data": {
      "text/plain": [
       "array([[ 0.,  0.,  0., ...,  0.,  0.,  0.],\n",
       "       [ 0.,  0.,  0., ...,  0.,  0.,  0.],\n",
       "       [ 0.,  0.,  0., ...,  0.,  0.,  0.],\n",
       "       ..., \n",
       "       [ 0.,  0.,  0., ...,  0.,  0.,  0.],\n",
       "       [ 0.,  0.,  0., ...,  0.,  0.,  0.],\n",
       "       [ 0.,  0.,  0., ...,  0.,  0.,  0.]])"
      ]
     },
     "execution_count": 8,
     "metadata": {},
     "output_type": "execute_result"
    }
   ],
   "source": [
    "\n",
    "x_train_1d"
   ]
  },
  {
   "cell_type": "code",
   "execution_count": 9,
   "metadata": {
    "collapsed": false
   },
   "outputs": [
    {
     "data": {
      "text/plain": [
       "array([[ 255.,  255.,  255., ...,  255.,  255.,  255.],\n",
       "       [ 255.,  255.,  255., ...,  255.,  255.,  255.],\n",
       "       [ 255.,  255.,  255., ...,  255.,  255.,  255.],\n",
       "       ..., \n",
       "       [ 255.,  255.,  255., ...,  255.,  255.,  255.],\n",
       "       [ 255.,  255.,  255., ...,  255.,  255.,  255.],\n",
       "       [ 255.,  255.,  255., ...,  255.,  255.,  255.]])"
      ]
     },
     "execution_count": 9,
     "metadata": {},
     "output_type": "execute_result"
    }
   ],
   "source": [
    "x_train_1d = 255 - x_train_1d\n",
    "x_test_1d = 255 - x_test_1d  #To interchange the background and digit colour\n",
    "x_train_1d"
   ]
  },
  {
   "cell_type": "code",
   "execution_count": 10,
   "metadata": {
    "collapsed": false
   },
   "outputs": [
    {
     "name": "stderr",
     "output_type": "stream",
     "text": [
      "Using Theano backend.\n"
     ]
    }
   ],
   "source": [
    "from keras.utils.np_utils import to_categorical\n",
    "y_train = to_categorical(y_train)#Converting the numeric to categorical\n",
    "y_test = to_categorical(y_test)"
   ]
  },
  {
   "cell_type": "code",
   "execution_count": 11,
   "metadata": {
    "collapsed": false
   },
   "outputs": [
    {
     "name": "stdout",
     "output_type": "stream",
     "text": [
      "(5000, 784)\n",
      "(5000, 10)\n"
     ]
    }
   ],
   "source": [
    "print(x_train_1d.shape)\n",
    "print(y_train.shape)"
   ]
  },
  {
   "cell_type": "code",
   "execution_count": 12,
   "metadata": {
    "collapsed": false
   },
   "outputs": [
    {
     "name": "stdout",
     "output_type": "stream",
     "text": [
      "(1000, 784)\n",
      "(1000, 10)\n"
     ]
    },
    {
     "data": {
      "text/plain": [
       "5000"
      ]
     },
     "execution_count": 12,
     "metadata": {},
     "output_type": "execute_result"
    }
   ],
   "source": [
    "print(x_test_1d.shape)\n",
    "print(y_test.shape)\n",
    "x_train_1d.shape[0]"
   ]
  },
  {
   "cell_type": "markdown",
   "metadata": {},
   "source": [
    "### Convert the 2d array to 4d array of images."
   ]
  },
  {
   "cell_type": "code",
   "execution_count": 13,
   "metadata": {
    "collapsed": false
   },
   "outputs": [
    {
     "name": "stdout",
     "output_type": "stream",
     "text": [
      "(5000, 1, 28, 28)\n"
     ]
    }
   ],
   "source": [
    "x_train = [[] for row in range(x_train_1d.shape[0])]\n",
    "\n",
    "for i in range(x_train_1d.shape[0]):\n",
    "    x_train[i] = x_train_1d[i].reshape(1,28,28)\n",
    "    \n",
    "x_train = np.asarray(x_train)\n",
    "print(x_train.shape)"
   ]
  },
  {
   "cell_type": "code",
   "execution_count": 14,
   "metadata": {
    "collapsed": false
   },
   "outputs": [
    {
     "name": "stdout",
     "output_type": "stream",
     "text": [
      "(1000, 1, 28, 28)\n"
     ]
    }
   ],
   "source": [
    "x_train_1d = np.array(x_test_1d)\n",
    "x_test = [[] for row in range(x_test_1d.shape[0])]\n",
    "\n",
    "for i in range(x_test_1d.shape[0]):\n",
    "    x_test[i] = x_test_1d[i].reshape(1,28,28)\n",
    "\n",
    "x_test = np.asarray(x_test)\n",
    "print(x_test.shape)"
   ]
  },
  {
   "cell_type": "code",
   "execution_count": 62,
   "metadata": {
    "collapsed": false
   },
   "outputs": [
    {
     "name": "stdout",
     "output_type": "stream",
     "text": [
      "(5000L, 1L, 28L, 28L)\n",
      "(5000L, 10L)\n",
      "(1000L, 1L, 28L, 28L)\n",
      "(1000L, 10L)\n"
     ]
    }
   ],
   "source": [
    "print(x_train.shape)\n",
    "print y_train.shape)\n",
    "\n",
    "print x_test.shape)\n",
    "print y_test.shape)\n"
   ]
  },
  {
   "cell_type": "markdown",
   "metadata": {},
   "source": [
    "### Biuld the architechture in keras"
   ]
  },
  {
   "cell_type": "code",
   "execution_count": 69,
   "metadata": {
    "collapsed": false
   },
   "outputs": [],
   "source": [
    "from keras.models import Sequential\n",
    "from keras.layers import Dense, Activation, Dropout,Flatten\n",
    "from keras.layers import Convolution2D, MaxPooling2D, AveragePooling2D, ZeroPadding2D\n",
    "from keras import backend as K\n",
    "K.set_image_dim_ordering('th')"
   ]
  },
  {
   "cell_type": "code",
   "execution_count": 76,
   "metadata": {
    "collapsed": false
   },
   "outputs": [],
   "source": [
    "model = Sequential()\n",
    "\n",
    "model.add(Convolution2D(5, 5, 5, activation='relu', border_mode='same', input_shape=(1,28,28)))\n",
    "model.add(MaxPooling2D(pool_size=(2,2), strides=None, border_mode='valid', dim_ordering='th'))\n",
    "\n",
    "model.add(Convolution2D(5, 3, 3, activation='relu', border_mode='same'))\n",
    "model.add(MaxPooling2D(pool_size=(2,2), strides=None, border_mode='valid', dim_ordering='th'))\n",
    "model.add(Flatten())\n",
    "model.add(Dropout(0.2))\n",
    "\n",
    "model.add(Dense(128, init='uniform', activation='relu'))\n",
    "model.add(Dropout(0.4))\n",
    "\n",
    "model.add(Dense(10, activation='softmax'))\n"
   ]
  },
  {
   "cell_type": "code",
   "execution_count": 77,
   "metadata": {
    "collapsed": true
   },
   "outputs": [],
   "source": [
    "model.compile(loss='categorical_crossentropy', optimizer='adam', metrics=['accuracy'])\n"
   ]
  },
  {
   "cell_type": "code",
   "execution_count": null,
   "metadata": {
    "collapsed": true
   },
   "outputs": [],
   "source": [
    "model.summary()"
   ]
  },
  {
   "cell_type": "markdown",
   "metadata": {},
   "source": [
    "### Train the network"
   ]
  },
  {
   "cell_type": "code",
   "execution_count": 79,
   "metadata": {
    "collapsed": false,
    "scrolled": true
   },
   "outputs": [
    {
     "name": "stdout",
     "output_type": "stream",
     "text": [
      "Epoch 1/10\n",
      "5000/5000 [==============================] - 1s - loss: 14.0003 - acc: 0.1036\n",
      "Epoch 2/10\n",
      "5000/5000 [==============================] - 1s - loss: 13.8144 - acc: 0.1106\n",
      "Epoch 3/10\n",
      "5000/5000 [==============================] - 1s - loss: 13.2620 - acc: 0.1330\n",
      "Epoch 4/10\n",
      "5000/5000 [==============================] - 1s - loss: 13.1026 - acc: 0.1358\n",
      "Epoch 5/10\n",
      "5000/5000 [==============================] - 1s - loss: 12.7308 - acc: 0.1492\n",
      "Epoch 6/10\n",
      "5000/5000 [==============================] - 1s - loss: 12.1529 - acc: 0.1778\n",
      "Epoch 7/10\n",
      "5000/5000 [==============================] - 1s - loss: 11.4957 - acc: 0.2030\n",
      "Epoch 8/10\n",
      "5000/5000 [==============================] - 1s - loss: 10.7139 - acc: 0.2440\n",
      "Epoch 9/10\n",
      "5000/5000 [==============================] - 1s - loss: 10.1965 - acc: 0.2516\n",
      "Epoch 10/10\n",
      "5000/5000 [==============================] - 1s - loss: 9.2300 - acc: 0.2952\n",
      "--- 152.10800004 seconds ---\n"
     ]
    }
   ],
   "source": [
    "import time\n",
    "start_time = time.time()\n",
    "\n",
    "model.fit(x_train, y_train, nb_epoch=10, batch_size=5000) \n",
    "#          , show_accuracy=True, verbose=1)\n",
    "          \n",
    "print(\"--- %s seconds ---\" % (time.time() - start_time))"
   ]
  },
  {
   "cell_type": "markdown",
   "metadata": {},
   "source": [
    "### Test Accuracy"
   ]
  },
  {
   "cell_type": "code",
   "execution_count": 42,
   "metadata": {
    "collapsed": false
   },
   "outputs": [
    {
     "name": "stdout",
     "output_type": "stream",
     "text": [
      " 992/1000 [============================>.] - ETA: 0s[2.3025537014007567, 0.10199999999999999]\n"
     ]
    }
   ],
   "source": [
    "score = model.evaluate(x_test, y_test)\n",
    "# Verbose=0\n",
    "print score"
   ]
  }
 ],
 "metadata": {
  "anaconda-cloud": {},
  "kernelspec": {
   "display_name": "Python [conda root]",
   "language": "python",
   "name": "conda-root-py"
  },
  "language_info": {
   "codemirror_mode": {
    "name": "ipython",
    "version": 3
   },
   "file_extension": ".py",
   "mimetype": "text/x-python",
   "name": "python",
   "nbconvert_exporter": "python",
   "pygments_lexer": "ipython3",
   "version": "3.5.2"
  }
 },
 "nbformat": 4,
 "nbformat_minor": 0
}
