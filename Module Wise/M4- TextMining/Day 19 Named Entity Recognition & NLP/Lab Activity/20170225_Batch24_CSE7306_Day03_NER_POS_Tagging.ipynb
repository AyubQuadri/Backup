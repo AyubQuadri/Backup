{
 "cells": [
  {
   "cell_type": "code",
   "execution_count": 2,
   "metadata": {
    "collapsed": false
   },
   "outputs": [
    {
     "data": {
      "text/plain": [
       "'C:\\\\Users\\\\quadris\\\\Desktop\\\\My Learning\\\\INSOFE CPEE\\\\Day 19\\\\Lab Activity'"
      ]
     },
     "execution_count": 2,
     "metadata": {},
     "output_type": "execute_result"
    }
   ],
   "source": [
    "import os\n",
    "# os.getcwd()\n",
    "# os.chdir(\"C:\\Users\\quadris\\Desktop\\My Learning\\INSOFE CPEE\\Day 19\\Lab Activity\")\n",
    "os.getcwd()"
   ]
  },
  {
   "cell_type": "code",
   "execution_count": 7,
   "metadata": {
    "collapsed": false
   },
   "outputs": [],
   "source": [
    "os.chdir(\"C:\\Users\\quadris\\Desktop\\My Learning\\INSOFE CPEE\\Day 19\\Lab Activity\")"
   ]
  },
  {
   "cell_type": "code",
   "execution_count": 3,
   "metadata": {
    "collapsed": false
   },
   "outputs": [
    {
     "data": {
      "text/plain": [
       "['.ipynb_checkpoints',\n",
       " '20170225_Batch24_CSE7306_Day03_NER_POS_Tagging.ipynb',\n",
       " 'ExcerciseData.txt']"
      ]
     },
     "execution_count": 3,
     "metadata": {},
     "output_type": "execute_result"
    }
   ],
   "source": [
    "os.listdir(os.getcwd())"
   ]
  },
  {
   "cell_type": "code",
   "execution_count": 12,
   "metadata": {
    "collapsed": false
   },
   "outputs": [
    {
     "ename": "ModuleNotFoundError",
     "evalue": "No module named 'pandas'",
     "output_type": "error",
     "traceback": [
      "\u001b[0;31m---------------------------------------------------------------------------\u001b[0m",
      "\u001b[0;31mModuleNotFoundError\u001b[0m                       Traceback (most recent call last)",
      "\u001b[0;32m<ipython-input-12-27885792ec1b>\u001b[0m in \u001b[0;36m<module>\u001b[0;34m()\u001b[0m\n\u001b[0;32m----> 1\u001b[0;31m \u001b[1;32mimport\u001b[0m \u001b[0mpandas\u001b[0m \u001b[1;32mas\u001b[0m \u001b[0mpd\u001b[0m\u001b[1;33m\u001b[0m\u001b[0m\n\u001b[0m\u001b[1;32m      2\u001b[0m \u001b[1;33m\u001b[0m\u001b[0m\n\u001b[1;32m      3\u001b[0m \u001b[0mdata\u001b[0m \u001b[1;33m=\u001b[0m \u001b[0mpd\u001b[0m\u001b[1;33m.\u001b[0m\u001b[0mread_csv\u001b[0m\u001b[1;33m(\u001b[0m\u001b[1;34m'ExcerciseData.txt'\u001b[0m\u001b[1;33m,\u001b[0m\u001b[0mheader\u001b[0m\u001b[1;33m=\u001b[0m\u001b[0mnone\u001b[0m\u001b[1;33m,\u001b[0m\u001b[0mdelimiter\u001b[0m\u001b[1;33m=\u001b[0m\u001b[1;34m\"\\t\"\u001b[0m\u001b[1;33m)\u001b[0m\u001b[1;33m\u001b[0m\u001b[0m\n\u001b[1;32m      4\u001b[0m \u001b[1;33m\u001b[0m\u001b[0m\n\u001b[1;32m      5\u001b[0m \u001b[1;31m# with open('ExcerciseData.txt', 'r') as myfile:\u001b[0m\u001b[1;33m\u001b[0m\u001b[1;33m\u001b[0m\u001b[0m\n",
      "\u001b[0;31mModuleNotFoundError\u001b[0m: No module named 'pandas'"
     ]
    }
   ],
   "source": [
    "import pandas as pd\n",
    "\n",
    "data = pd.read_csv('ExcerciseData.txt',header=none,delimiter=\"\\t\")\n",
    "\n",
    "# with open('ExcerciseData.txt', 'r') as myfile:\n",
    "#     data=myfile.read().replace('\\n',' ').split(\"\\t\") #Separated the sentences \n",
    "\n",
    "type(data)\n",
    "print(data)"
   ]
  },
  {
   "cell_type": "code",
   "execution_count": 10,
   "metadata": {
    "collapsed": false
   },
   "outputs": [
    {
     "ename": "SyntaxError",
     "evalue": "invalid syntax (<ipython-input-10-9752007103f3>, line 6)",
     "output_type": "error",
     "traceback": [
      "\u001b[0;36m  File \u001b[0;32m\"<ipython-input-10-9752007103f3>\"\u001b[0;36m, line \u001b[0;32m6\u001b[0m\n\u001b[0;31m    print(comp_data[])\u001b[0m\n\u001b[0m                    ^\u001b[0m\n\u001b[0;31mSyntaxError\u001b[0m\u001b[0;31m:\u001b[0m invalid syntax\n"
     ]
    }
   ],
   "source": [
    "print(data[0])\n",
    "print(data[1])\n",
    "\n",
    "\n",
    "comp_data = zip(data[0],data[1])\n",
    "print(comp_data)\n",
    "type(data[2])"
   ]
  },
  {
   "cell_type": "code",
   "execution_count": 11,
   "metadata": {
    "collapsed": false
   },
   "outputs": [
    {
     "name": "stdout",
     "output_type": "stream",
     "text": [
      "[' On hearing an inspired sermon by the Reverend Richard Allen, founder of the Bethel African Methodist Episcopal Church, Lee joined the Methodists']\n"
     ]
    }
   ],
   "source": [
    "import nltk\n",
    "import time\n",
    "import nltk.tokenize\n",
    "\n",
    "# Creating a list with a sentence\n",
    "data1 = [data[2]]\n",
    "print(data1)"
   ]
  },
  {
   "cell_type": "code",
   "execution_count": 12,
   "metadata": {
    "collapsed": false
   },
   "outputs": [
    {
     "name": "stdout",
     "output_type": "stream",
     "text": [
      "['On', 'hearing', 'an', 'inspired', 'sermon', 'by', 'the', 'Reverend', 'Richard', 'Allen', ',', 'founder', 'of', 'the', 'Bethel', 'African', 'Methodist', 'Episcopal', 'Church', ',', 'Lee', 'joined', 'the', 'Methodists']\n"
     ]
    }
   ],
   "source": [
    "# Tokenizing the sentence\n",
    "for item in data1:\n",
    "    tokenized = nltk.word_tokenize(item)\n",
    "    print(tokenized)"
   ]
  },
  {
   "cell_type": "code",
   "execution_count": 31,
   "metadata": {
    "collapsed": false
   },
   "outputs": [
    {
     "name": "stdout",
     "output_type": "stream",
     "text": [
      "[('On', 'IN'), ('hearing', 'VBG'), ('an', 'DT'), ('inspired', 'JJ'), ('sermon', 'NN'), ('by', 'IN'), ('the', 'DT'), ('Reverend', 'NNP'), ('Richard', 'NNP'), ('Allen', 'NNP'), (',', ','), ('founder', 'NN'), ('of', 'IN'), ('the', 'DT'), ('Bethel', 'NNP'), ('African', 'NNP'), ('Methodist', 'NNP'), ('Episcopal', 'NNP'), ('Church', 'NNP'), (',', ','), ('Lee', 'NNP'), ('joined', 'VBD'), ('the', 'DT'), ('Methodists', 'NNS')]\n",
      "['IN', 'VBG', 'DT', 'JJ', 'NN', 'IN', 'DT', 'NNP', 'NNP', 'NNP', ',', 'NN', 'IN', 'DT', 'NNP', 'NNP', 'NNP', 'NNP', 'NNP', ',', 'NNP', 'VBD', 'DT', 'NNS']\n",
      "NNP  DT  IN  NN   , VBG VBD  JJ NNS \n",
      "  9   4   3   2   2   1   1   1   1 \n"
     ]
    }
   ],
   "source": [
    "# Binding the parts of speech to the tokens\n",
    "for item in data1:\n",
    "    tokenized = nltk.word_tokenize(item)\n",
    "    tagged = nltk.pos_tag(tokenized)\n",
    "    print tagged\n",
    "    # Retrieving the parts of speech tags\n",
    "    tags = [b[1] for b in tagged]\n",
    "    print tags\n",
    "    # Getting the frequency of POS tags\n",
    "    fd = nltk.FreqDist(tags)\n",
    "    fd.tabulate()"
   ]
  },
  {
   "cell_type": "code",
   "execution_count": 19,
   "metadata": {
    "collapsed": false
   },
   "outputs": [],
   "source": [
    "# Defining the customized parsers\n",
    "#grammar = \"NP: {<DT>?<JJ>*<NN>}\"\n",
    "#cp = nltk.RegexpParser(grammar)\n",
    "#result = cp.parse(tagged)\n",
    "#print(result)\n",
    "#result.draw()"
   ]
  },
  {
   "cell_type": "code",
   "execution_count": 33,
   "metadata": {
    "collapsed": false
   },
   "outputs": [
    {
     "name": "stdout",
     "output_type": "stream",
     "text": [
      "(S\n",
      "  On/IN\n",
      "  hearing/VBG\n",
      "  an/DT\n",
      "  inspired/JJ\n",
      "  sermon/NN\n",
      "  by/IN\n",
      "  the/DT\n",
      "  (ORGANIZATION Reverend/NNP)\n",
      "  (PERSON Richard/NNP Allen/NNP)\n",
      "  ,/,\n",
      "  founder/NN\n",
      "  of/IN\n",
      "  the/DT\n",
      "  (ORGANIZATION Bethel/NNP African/NNP)\n",
      "  (ORGANIZATION Methodist/NNP Episcopal/NNP Church/NNP)\n",
      "  ,/,\n",
      "  (PERSON Lee/NNP)\n",
      "  joined/VBD\n",
      "  the/DT\n",
      "  (ORGANIZATION Methodists/NNS))\n"
     ]
    }
   ],
   "source": [
    "# Creating the Named Entity Anotators\n",
    "for item in data1:\n",
    "    tokenized = nltk.word_tokenize(item)\n",
    "    tagged = nltk.pos_tag(tokenized)\n",
    "    namedEnt = nltk.ne_chunk(tagged,binary=False)\n",
    "    print namedEnt"
   ]
  },
  {
   "cell_type": "code",
   "execution_count": 34,
   "metadata": {
    "collapsed": false
   },
   "outputs": [
    {
     "name": "stdout",
     "output_type": "stream",
     "text": [
      "(PERSON Richard/NNP Allen/NNP)\n",
      "2\n",
      "Richard\n",
      "NNP\n",
      "2\n",
      "Allen\n",
      "NNP\n",
      "(PERSON Lee/NNP)\n",
      "2\n",
      "Lee\n",
      "NNP\n"
     ]
    }
   ],
   "source": [
    "# Printing the Names of the preson and POS tag based on the entity Person\n",
    "for item in data1:\n",
    "    tokenized = nltk.word_tokenize(item)\n",
    "    tagged = nltk.pos_tag(tokenized)\n",
    "    namedEnt = nltk.ne_chunk(tagged,binary=False)\n",
    "    for x in namedEnt.subtrees():\n",
    "        if x.label() == \"PERSON\": \n",
    "            print x\n",
    "            for y in x.leaves(): \n",
    "                print len(y)\n",
    "                print y[0]\n",
    "                print y[1]"
   ]
  },
  {
   "cell_type": "code",
   "execution_count": 35,
   "metadata": {
    "collapsed": false
   },
   "outputs": [
    {
     "name": "stdout",
     "output_type": "stream",
     "text": [
      "[['Richard Allen', 'Lee']]\n"
     ]
    }
   ],
   "source": [
    "# Printing the names of the persons from the sentences\n",
    "np_person1=[]\n",
    "\n",
    "for item in data1:\n",
    "    tokenized = nltk.word_tokenize(item)\n",
    "    tagged = nltk.pos_tag(tokenized)\n",
    "    namedEnt = nltk.ne_chunk(tagged,binary=False)\n",
    "    np_person1.append([' '.join([y[0] for y in x.leaves()]) for x in namedEnt.subtrees() if x.label() == \"PERSON\"])\n",
    "    namedEnt.draw()\n",
    "    print np_person1"
   ]
  },
  {
   "cell_type": "code",
   "execution_count": 6,
   "metadata": {
    "collapsed": true
   },
   "outputs": [],
   "source": [
    "import nltk\n",
    "import time\n",
    "import nltk.tokenize\n",
    "#from nltk.tokenize import PunktSentenceTokenizer\n",
    "#from nltk.tag import StanfordNERTagger\n",
    "\n",
    "def processLanguage():\n",
    "    np_person=[]\n",
    "    try:\n",
    "        for item in data:\n",
    "            tokenized = nltk.word_tokenize(item)\n",
    "            tagged = nltk.pos_tag(tokenized)\n",
    "            print tagged\n",
    "\n",
    "            namedEnt = nltk.ne_chunk(tagged,binary=False)\n",
    "            print namedEnt         \n",
    "            np_person.append([' '.join([y[0] for y in x.leaves()]) for x in namedEnt.subtrees() if x.label() == \"PERSON\"])\n",
    "            namedEnt.draw()\n",
    "            time.sleep(1)\n",
    "       \n",
    "    except Exception, e:\n",
    "        print str(e)\n",
    "    print np_person\n",
    "   \n"
   ]
  },
  {
   "cell_type": "code",
   "execution_count": 7,
   "metadata": {
    "collapsed": false
   },
   "outputs": [
    {
     "name": "stdout",
     "output_type": "stream",
     "text": [
      "[('In', 'IN'), ('1804', 'CD'), (',', ','), ('after', 'IN'), ('several', 'JJ'), ('months', 'NNS'), ('of', 'IN'), ('profound', 'JJ'), ('spiritual', 'JJ'), ('anxiety', 'NN'), (',', ','), ('Jarena', 'NNP'), ('Lee', 'NNP'), ('moved', 'VBD'), ('from', 'IN'), ('New', 'NNP'), ('Jersey', 'NNP'), ('to', 'TO'), ('Philadelphia', 'NNP')]\n",
      "(S\n",
      "  In/IN\n",
      "  1804/CD\n",
      "  ,/,\n",
      "  after/IN\n",
      "  several/JJ\n",
      "  months/NNS\n",
      "  of/IN\n",
      "  profound/JJ\n",
      "  spiritual/JJ\n",
      "  anxiety/NN\n",
      "  ,/,\n",
      "  (PERSON Jarena/NNP Lee/NNP)\n",
      "  moved/VBD\n",
      "  from/IN\n",
      "  (GPE New/NNP Jersey/NNP)\n",
      "  to/TO\n",
      "  (GSP Philadelphia/NNP))\n",
      "[('There', 'EX'), ('she', 'PRP'), ('labored', 'VBD'), ('as', 'IN'), ('a', 'DT'), ('domestic', 'JJ'), ('and', 'CC'), ('worshiped', 'VBD'), ('among', 'IN'), ('white', 'JJ'), ('congregations', 'NNS'), ('of', 'IN'), ('Roman', 'NNP'), ('Catholics', 'NNPS'), ('and', 'CC'), ('mixed', 'JJ'), ('congregations', 'NNS'), ('of', 'IN'), ('Methodists', 'NNS')]\n",
      "(S\n",
      "  There/EX\n",
      "  she/PRP\n",
      "  labored/VBD\n",
      "  as/IN\n",
      "  a/DT\n",
      "  domestic/JJ\n",
      "  and/CC\n",
      "  worshiped/VBD\n",
      "  among/IN\n",
      "  white/JJ\n",
      "  congregations/NNS\n",
      "  of/IN\n",
      "  (ORGANIZATION Roman/NNP Catholics/NNPS)\n",
      "  and/CC\n",
      "  mixed/JJ\n",
      "  congregations/NNS\n",
      "  of/IN\n",
      "  (ORGANIZATION Methodists/NNS))\n",
      "[('On', 'IN'), ('hearing', 'VBG'), ('an', 'DT'), ('inspired', 'JJ'), ('sermon', 'NN'), ('by', 'IN'), ('the', 'DT'), ('Reverend', 'NNP'), ('Richard', 'NNP'), ('Allen', 'NNP'), (',', ','), ('founder', 'NN'), ('of', 'IN'), ('the', 'DT'), ('Bethel', 'NNP'), ('African', 'NNP'), ('Methodist', 'NNP'), ('Episcopal', 'NNP'), ('Church', 'NNP'), (',', ','), ('Lee', 'NNP'), ('joined', 'VBD'), ('the', 'DT'), ('Methodists', 'NNS')]\n",
      "(S\n",
      "  On/IN\n",
      "  hearing/VBG\n",
      "  an/DT\n",
      "  inspired/JJ\n",
      "  sermon/NN\n",
      "  by/IN\n",
      "  the/DT\n",
      "  (ORGANIZATION Reverend/NNP)\n",
      "  (PERSON Richard/NNP Allen/NNP)\n",
      "  ,/,\n",
      "  founder/NN\n",
      "  of/IN\n",
      "  the/DT\n",
      "  (ORGANIZATION Bethel/NNP African/NNP)\n",
      "  (ORGANIZATION Methodist/NNP Episcopal/NNP Church/NNP)\n",
      "  ,/,\n",
      "  (PERSON Lee/NNP)\n",
      "  joined/VBD\n",
      "  the/DT\n",
      "  (ORGANIZATION Methodists/NNS))\n",
      "[('She', 'PRP'), ('was', 'VBD'), ('baptized', 'VBN'), ('in', 'IN'), ('1807', 'CD')]\n",
      "(S She/PRP was/VBD baptized/VBN in/IN 1807/CD)\n",
      "[('Prior', 'RB'), ('to', 'TO'), ('her', 'PRP$'), ('baptism', 'NN'), (',', ','), ('she', 'PRP'), ('experienced', 'VBD'), ('the', 'DT'), ('various', 'JJ'), ('physical', 'JJ'), ('and', 'CC'), ('emotional', 'JJ'), ('stages', 'NNS'), ('of', 'IN'), ('conversion', 'NN'), (':', ':'), ('terrifying', 'JJ'), ('visions', 'NNS'), ('of', 'IN'), ('demons', 'NNS'), ('and', 'CC'), ('eternal', 'JJ'), ('perdition', 'NN'), (';', ':'), ('extreme', 'JJ'), ('feelings', 'NNS'), ('of', 'IN'), ('ecstasy', 'NN'), ('and', 'CC'), ('depression', 'NN'), (';', ':'), ('protracted', 'VBN'), ('periods', 'NNS'), ('of', 'IN'), ('meditation', 'NN'), (',', ','), ('fasting', 'NN'), (',', ','), ('and', 'CC'), ('prayer', 'NN'), (';', ':'), ('ennui', 'CC'), ('and', 'CC'), ('fever', 'NN'), (';', ':'), ('energy', 'NN'), ('and', 'CC'), ('vigor', 'NN')]\n",
      "(S\n",
      "  Prior/RB\n",
      "  to/TO\n",
      "  her/PRP$\n",
      "  baptism/NN\n",
      "  ,/,\n",
      "  she/PRP\n",
      "  experienced/VBD\n",
      "  the/DT\n",
      "  various/JJ\n",
      "  physical/JJ\n",
      "  and/CC\n",
      "  emotional/JJ\n",
      "  stages/NNS\n",
      "  of/IN\n",
      "  conversion/NN\n",
      "  :/:\n",
      "  terrifying/JJ\n",
      "  visions/NNS\n",
      "  of/IN\n",
      "  demons/NNS\n",
      "  and/CC\n",
      "  eternal/JJ\n",
      "  perdition/NN\n",
      "  ;/:\n",
      "  extreme/JJ\n",
      "  feelings/NNS\n",
      "  of/IN\n",
      "  ecstasy/NN\n",
      "  and/CC\n",
      "  depression/NN\n",
      "  ;/:\n",
      "  protracted/VBN\n",
      "  periods/NNS\n",
      "  of/IN\n",
      "  meditation/NN\n",
      "  ,/,\n",
      "  fasting/NN\n",
      "  ,/,\n",
      "  and/CC\n",
      "  prayer/NN\n",
      "  ;/:\n",
      "  ennui/CC\n",
      "  and/CC\n",
      "  fever/NN\n",
      "  ;/:\n",
      "  energy/NN\n",
      "  and/CC\n",
      "  vigor/NN)\n",
      "[('In', 'IN'), ('1811', 'CD'), ('she', 'PRP'), ('married', 'VBD'), ('Joseph', 'NNP'), ('Lee', 'NNP'), (',', ','), ('who', 'WP'), ('pastored', 'VBD'), ('an', 'DT'), ('African-American', 'JJ'), ('church', 'NN'), ('in', 'IN'), ('Snow', 'NNP'), ('Hill', 'NNP'), (',', ','), ('New', 'NNP'), ('Jersey', 'NNP')]\n",
      "(S\n",
      "  In/IN\n",
      "  1811/CD\n",
      "  she/PRP\n",
      "  married/VBD\n",
      "  (PERSON Joseph/NNP Lee/NNP)\n",
      "  ,/,\n",
      "  who/WP\n",
      "  pastored/VBD\n",
      "  an/DT\n",
      "  African-American/JJ\n",
      "  church/NN\n",
      "  in/IN\n",
      "  (GPE Snow/NNP Hill/NNP)\n",
      "  ,/,\n",
      "  (GPE New/NNP Jersey/NNP))\n",
      "[('They', 'PRP'), ('had', 'VBD'), ('six', 'CD'), ('children', 'NNS'), (',', ','), ('four', 'CD'), ('of', 'IN'), ('whom', 'WP'), ('died', 'VBD'), ('in', 'IN'), ('infancy', 'NN')]\n",
      "(S\n",
      "  They/PRP\n",
      "  had/VBD\n",
      "  six/CD\n",
      "  children/NNS\n",
      "  ,/,\n",
      "  four/CD\n",
      "  of/IN\n",
      "  whom/WP\n",
      "  died/VBD\n",
      "  in/IN\n",
      "  infancy/NN)\n",
      "[]\n",
      "(S )\n",
      "[['Jarena Lee'], [], ['Richard Allen', 'Lee'], [], [], ['Joseph Lee'], [], []]\n"
     ]
    }
   ],
   "source": [
    "processLanguage()"
   ]
  },
  {
   "cell_type": "code",
   "execution_count": null,
   "metadata": {
    "collapsed": true
   },
   "outputs": [],
   "source": []
  }
 ],
 "metadata": {
  "kernelspec": {
   "display_name": "Python [conda env:tensorflow]",
   "language": "python",
   "name": "conda-env-tensorflow-py"
  },
  "language_info": {
   "codemirror_mode": {
    "name": "ipython",
    "version": 3
   },
   "file_extension": ".py",
   "mimetype": "text/x-python",
   "name": "python",
   "nbconvert_exporter": "python",
   "pygments_lexer": "ipython3",
   "version": "3.6.0"
  }
 },
 "nbformat": 4,
 "nbformat_minor": 0
}
