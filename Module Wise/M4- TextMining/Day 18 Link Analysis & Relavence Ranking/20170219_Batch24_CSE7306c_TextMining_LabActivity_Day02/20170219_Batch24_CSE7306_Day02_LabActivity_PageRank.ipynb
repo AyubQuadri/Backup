{
 "cells": [
  {
   "cell_type": "code",
   "execution_count": 4,
   "metadata": {
    "collapsed": false
   },
   "outputs": [],
   "source": [
    "##Download igraph from the link provided\n",
    "## Import igraph\n",
    "import igraph"
   ]
  },
  {
   "cell_type": "code",
   "execution_count": 5,
   "metadata": {
    "collapsed": false
   },
   "outputs": [
    {
     "name": "stdout",
     "output_type": "stream",
     "text": [
      "IGRAPH U--- 0 0 --\n"
     ]
    }
   ],
   "source": [
    "##create an empty graph\n",
    "g = igraph.Graph()\n",
    "\n",
    "##lets look at the empty graph\n",
    "print g ##Nothing right!!"
   ]
  },
  {
   "cell_type": "code",
   "execution_count": 18,
   "metadata": {
    "collapsed": false
   },
   "outputs": [],
   "source": [
    "## manually provode edges and vertices. We know that \n",
    "## vertices are webpages and edges are the links\n",
    "\n",
    "g.add_vertices(4)\n",
    "g.add_edges([(0,3),(0,2),(0,1),(1,2),(1,3),(3,2),(2,0),(3,1)])\n",
    "\n",
    "#Lets print and save the graph\n",
    "g.write_svg(\"test.svg\")"
   ]
  },
  {
   "cell_type": "code",
   "execution_count": 16,
   "metadata": {
    "collapsed": true
   },
   "outputs": [],
   "source": [
    "##How to obtain a directed graph\n",
    "g= igraph.Graph(directed=True)\n",
    "g.add_vertices(4)\n",
    "g.add_edges([(0,3),(0,2),(0,1),(1,2),(1,3),(3,2),(2,0),(3,1)])\n",
    "\n",
    "#Lets print and save the graph\n",
    "g.write_svg(\"test.svg\")"
   ]
  },
  {
   "cell_type": "code",
   "execution_count": 14,
   "metadata": {
    "collapsed": false
   },
   "outputs": [
    {
     "data": {
      "text/plain": [
       "[0.2889592882178485,\n",
       " 0.2076031275276355,\n",
       " 0.2958344567268806,\n",
       " 0.2076031275276355]"
      ]
     },
     "execution_count": 14,
     "metadata": {},
     "output_type": "execute_result"
    }
   ],
   "source": [
    "##PageRank for all 4 nodes\n",
    "g.pagerank()"
   ]
  }
 ],
 "metadata": {
  "anaconda-cloud": {},
  "kernelspec": {
   "display_name": "Python 2",
   "language": "python",
   "name": "python2"
  },
  "language_info": {
   "codemirror_mode": {
    "name": "ipython",
    "version": 2
   },
   "file_extension": ".py",
   "mimetype": "text/x-python",
   "name": "python",
   "nbconvert_exporter": "python",
   "pygments_lexer": "ipython2",
   "version": "2.7.13"
  }
 },
 "nbformat": 4,
 "nbformat_minor": 1
}
