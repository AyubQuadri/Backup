{
 "cells": [
  {
   "cell_type": "code",
   "execution_count": 1,
   "metadata": {
    "collapsed": false
   },
   "outputs": [],
   "source": [
    "string = '''\n",
    "At Waterloo we were fortunate in catching a don't train for Leatherhead, where we hired a trap at the station inn and drove for four or five miles through the lovely Surrey lanes. \n",
    "It was a perfect day, with a bright sun and a few fleecy clouds in the heavens. \n",
    "The trees and wayside hedges were just throwing out their first green shoots, and the air was full of the pleasant smell of the moist earth. To me at least there was a strange contrast between the sweet promise of the spring and this sinister quest upon which we were engaged. \n",
    "My companion sat in the front of the trap, his arms folded, his hat pulled down over his eyes, and his chin sunk upon his breast, buried in the deepest thought. \n",
    "Suddenly, however, he started, tapped me on the shoulder, and pointed over the meadows.\n",
    "'''"
   ]
  },
  {
   "cell_type": "code",
   "execution_count": 2,
   "metadata": {
    "collapsed": false
   },
   "outputs": [
    {
     "name": "stdout",
     "output_type": "stream",
     "text": [
      "\n",
      "At Waterloo we were fortunate in catching a don't train for Leatherhead, where we hired a trap at the station inn and drove for four or five miles through the lovely Surrey lanes. \n",
      "It was a perfect day, with a bright sun and a few fleecy clouds in the heavens. \n",
      "The trees and wayside hedges were just throwing out their first green shoots, and the air was full of the pleasant smell of the moist earth. To me at least there was a strange contrast between the sweet promise of the spring and this sinister quest upon which we were engaged. \n",
      "My companion sat in the front of the trap, his arms folded, his hat pulled down over his eyes, and his chin sunk upon his breast, buried in the deepest thought. \n",
      "Suddenly, however, he started, tapped me on the shoulder, and pointed over the meadows.\n",
      "\n"
     ]
    }
   ],
   "source": [
    "print(string)"
   ]
  },
  {
   "cell_type": "markdown",
   "metadata": {},
   "source": [
    "#### But what if we want to read a text file?"
   ]
  },
  {
   "cell_type": "code",
   "execution_count": 5,
   "metadata": {
    "collapsed": false
   },
   "outputs": [
    {
     "name": "stdout",
     "output_type": "stream",
     "text": [
      "C:\\Users\\quadris\\Desktop\\My Learning\\INSOFE CPEE\\Day 18\\20170219_Batch24_CSE7306c_TextMining_LabActivity_Day02\n"
     ]
    }
   ],
   "source": [
    "#We first check the working directory\n",
    "import os\n",
    "os.chdir('C:/Users/quadris/Desktop/My Learning/INSOFE CPEE/Day 18/20170219_Batch24_CSE7306c_TextMining_LabActivity_Day02')\n",
    "print(os.getcwd())"
   ]
  },
  {
   "cell_type": "code",
   "execution_count": null,
   "metadata": {
    "collapsed": true
   },
   "outputs": [],
   "source": [
    "#And then set it to required path as shown below\n",
    "#os.chdir('E:/Batch 24/Text Mining Day 01/20170219_Batch24_CSE7306c_TextMining_Day04_Lab/')"
   ]
  },
  {
   "cell_type": "code",
   "execution_count": 37,
   "metadata": {
    "collapsed": false
   },
   "outputs": [
    {
     "name": "stdout",
     "output_type": "stream",
     "text": [
      "['.ipynb_checkpoints', '20170219_Batch24_CSE7306_Day02_LabActivity_PageRank.ipynb', '20170219_Batch24_CSE7306_Day02_LabActivity_TFIDF.ipynb', '20170219_Batch24_CSE7306_Day02_Lab_Preprocessing.ipynb', '20170219_Batch24_CSE7306_LabActivity.zip', '20170219_Batch24_CSE7306_LabActivity_InitialDraft.zip', '20170219_Batch24_CSE7306_LabActivity_TFIDF&PageRank.pdf', 'ende.json', 'english_german_articles.txt', 'Practice', 'shakespeare-macbeth.txt', 'sherlock.txt', 'test.svg', 'TfIdfManual.xlsx', 'word_freqs.json']\n"
     ]
    }
   ],
   "source": [
    "#we could even verify what files are there in the path as shown:\n",
    "print(os.listdir(os.getcwd()))"
   ]
  },
  {
   "cell_type": "code",
   "execution_count": 38,
   "metadata": {
    "collapsed": false
   },
   "outputs": [],
   "source": [
    "# Reading the text file\n",
    "with open('sherlock.txt', 'r') as file_:\n",
    "    string = file_.read()"
   ]
  },
  {
   "cell_type": "code",
   "execution_count": 39,
   "metadata": {
    "collapsed": false
   },
   "outputs": [
    {
     "name": "stdout",
     "output_type": "stream",
     "text": [
      "['At', 'Waterloo', 'we', 'were', 'fortunate', 'in', 'catching', 'a', 'do', \"n't\", 'train', 'for', 'Leatherhead', ',', 'where', 'we', 'hired', 'a', 'trap', 'at', 'the', 'station', 'inn', 'and', 'drove', 'for', 'four', 'or', 'five', 'miles', 'through', 'the', 'lovely', 'Surrey', 'lanes', '.', 'It', 'was', 'a', 'perfect', 'day', ',', 'with', 'a', 'bright', 'sun', 'and', 'a', 'few', 'fleecy', 'clouds', 'in', 'the', 'heavens', '.', 'The', 'trees', 'and', 'wayside', 'hedges', 'were', 'just', 'throwing', 'out', 'their', 'first', 'green', 'shoots', ',', 'and', 'the', 'air', 'was', 'full', 'of', 'the', 'pleasant', 'smell', 'of', 'the', 'moist', 'earth', '.', 'To', 'me', 'at', 'least', 'there', 'was', 'a', 'strange', 'contrast', 'between', 'the', 'sweet', 'promise', 'of', 'the', 'spring', 'and', 'this', 'sinister', 'quest', 'upon', 'which', 'we', 'were', 'engaged', '.', 'My', 'companion', 'sat', 'in', 'the', 'front', 'of', 'the', 'trap', ',', 'his', 'arms', 'folded', ',', 'his', 'hat', 'pulled', 'down', 'over', 'his', 'eyes', ',', 'and', 'his', 'chin', 'sunk', 'upon', 'his', 'breast', ',', 'buried', 'in', 'the', 'deepest', 'thought', '.', 'Suddenly', ',', 'however', ',', 'he', 'started', ',', 'tapped', 'me', 'on', 'the', 'shoulder', ',', 'and', 'pointed', 'over', 'the', 'meadows', '.']\n"
     ]
    }
   ],
   "source": [
    "import nltk\n",
    "# Tockenizing the words\n",
    "tokens = nltk.tokenize.word_tokenize(string)\n",
    "print(tokens)\n"
   ]
  },
  {
   "cell_type": "code",
   "execution_count": 26,
   "metadata": {
    "collapsed": false
   },
   "outputs": [
    {
     "name": "stdout",
     "output_type": "stream",
     "text": [
      "\n",
      "\n",
      "At Waterloo we were fortunate in catching a don't train for Leatherhead, where we hired a trap at the station inn and drove for four or five miles through the lovely Surrey lanes.\n",
      "\n",
      "\n",
      "It was a perfect day, with a bright sun and a few fleecy clouds in the heavens.\n",
      "\n",
      "\n",
      "The trees and wayside hedges were just throwing out their first green shoots, and the air was full of the pleasant smell of the moist earth.\n",
      "\n",
      "\n",
      "To me at least there was a strange contrast between the sweet promise of the spring and this sinister quest upon which we were engaged.\n",
      "\n",
      "\n",
      "My companion sat in the front of the trap, his arms folded, his hat pulled down over his eyes, and his chin sunk upon his breast, buried in the deepest thought.\n",
      "\n",
      "\n",
      "Suddenly, however, he started, tapped me on the shoulder, and pointed over the meadows.\n"
     ]
    }
   ],
   "source": [
    "# Creating sentence tokens and printing the sentences\n",
    "sentences = nltk.tokenize.sent_tokenize(string)\n",
    "for sent in sentences:\n",
    "    print('\\n')\n",
    "    print(sent)"
   ]
  },
  {
   "cell_type": "markdown",
   "metadata": {},
   "source": [
    "#### Notice how \"don't\" has been tokenized to 'do' and \"n't\" in word tokens"
   ]
  },
  {
   "cell_type": "markdown",
   "metadata": {},
   "source": [
    "#### Lowering case\n",
    "###### (Here's a nice use of list comprehensions. Instead of writing a for loop, initiating an empty list and appending lowered words, we can save much space by doing this)"
   ]
  },
  {
   "cell_type": "code",
   "execution_count": 28,
   "metadata": {
    "collapsed": false
   },
   "outputs": [
    {
     "name": "stdout",
     "output_type": "stream",
     "text": [
      "['at', 'waterloo', 'we', 'were', 'fortunate', 'in', 'catching', 'a', 'do', \"n't\", 'train', 'for', 'leatherhead', ',', 'where', 'we', 'hired', 'a', 'trap', 'at', 'the', 'station', 'inn', 'and', 'drove', 'for', 'four', 'or', 'five', 'miles', 'through', 'the', 'lovely', 'surrey', 'lanes', '.', 'it', 'was', 'a', 'perfect', 'day', ',', 'with', 'a', 'bright', 'sun', 'and', 'a', 'few', 'fleecy', 'clouds', 'in', 'the', 'heavens', '.', 'the', 'trees', 'and', 'wayside', 'hedges', 'were', 'just', 'throwing', 'out', 'their', 'first', 'green', 'shoots', ',', 'and', 'the', 'air', 'was', 'full', 'of', 'the', 'pleasant', 'smell', 'of', 'the', 'moist', 'earth', '.', 'to', 'me', 'at', 'least', 'there', 'was', 'a', 'strange', 'contrast', 'between', 'the', 'sweet', 'promise', 'of', 'the', 'spring', 'and', 'this', 'sinister', 'quest', 'upon', 'which', 'we', 'were', 'engaged', '.', 'my', 'companion', 'sat', 'in', 'the', 'front', 'of', 'the', 'trap', ',', 'his', 'arms', 'folded', ',', 'his', 'hat', 'pulled', 'down', 'over', 'his', 'eyes', ',', 'and', 'his', 'chin', 'sunk', 'upon', 'his', 'breast', ',', 'buried', 'in', 'the', 'deepest', 'thought', '.', 'suddenly', ',', 'however', ',', 'he', 'started', ',', 'tapped', 'me', 'on', 'the', 'shoulder', ',', 'and', 'pointed', 'over', 'the', 'meadows', '.']\n"
     ]
    }
   ],
   "source": [
    "'''\n",
    "lower_tokens = []\n",
    "for token in tokens:\n",
    "    lower_tokens.append(token.lower())\n",
    "'''\n",
    "##This is the same as doing the following lines of code\n",
    "lower_tokens = [token.lower() for token in tokens]\n",
    "print(lower_tokens)"
   ]
  },
  {
   "cell_type": "markdown",
   "metadata": {},
   "source": [
    "#### Stopwords"
   ]
  },
  {
   "cell_type": "code",
   "execution_count": 29,
   "metadata": {
    "collapsed": false
   },
   "outputs": [
    {
     "name": "stdout",
     "output_type": "stream",
     "text": [
      "['waterloo', 'fortunate', 'catching', \"n't\", 'train', 'leatherhead', ',', 'hired', 'trap', 'station', 'inn', 'drove', 'four', 'five', 'miles', 'lovely', 'surrey', 'lanes', '.', 'perfect']\n"
     ]
    }
   ],
   "source": [
    "from nltk.corpus import stopwords\n",
    "# Reading the stopwords from the corpus\n",
    "stop = stopwords.words('english')\n",
    "# Removing the stop words from the text\n",
    "tokens = [token for token in lower_tokens if token not in stop]\n",
    "print(tokens[:20])"
   ]
  },
  {
   "cell_type": "markdown",
   "metadata": {},
   "source": [
    "#### Lemmatizing"
   ]
  },
  {
   "cell_type": "code",
   "execution_count": 32,
   "metadata": {
    "collapsed": false,
    "scrolled": true
   },
   "outputs": [
    {
     "name": "stdout",
     "output_type": "stream",
     "text": [
      "['waterloo', 'fortunate', 'catching', \"n't\", 'train', 'leatherhead', ',', 'hired', 'trap', 'station', 'inn', 'drove', 'four', 'five', u'mile', 'lovely', 'surrey', u'lane', '.', 'perfect']\n"
     ]
    }
   ],
   "source": [
    "lmtzr = nltk.stem.WordNetLemmatizer()\n",
    "tokens = [lmtzr.lemmatize(token) for token in tokens]\n",
    "print(tokens[:20])"
   ]
  },
  {
   "cell_type": "code",
   "execution_count": 41,
   "metadata": {
    "collapsed": false
   },
   "outputs": [
    {
     "name": "stdout",
     "output_type": "stream",
     "text": [
      "[u'caress', u'fli', u'die', u'mule', u'deni', u'comput', u'comput', u'comput', 'better']\n",
      "[u'caress', u'fly', u'dy', u'mule', 'denied', 'computer', 'computing', 'compute', 'better']\n",
      "----------------Puncuation Removal---------------------\n",
      "['When', 'I', 'M', 'a', 'Duchess', 'she', 'said', 'to', 'herself', 'not', 'in', 'a', 'very', 'hopeful', 'tone', 'though', 'I', 'won', 't', 'have', 'any', 'pepper', 'in', 'my', 'kitchen', 'AT', 'ALL', 'Soup', 'does', 'very', 'well', 'without', 'Maybe', 'it', 's', 'always', 'pepper', 'that', 'makes', 'people', 'hot', 'tempered']\n",
      "----------------Puncuation Removal---------------------\n",
      "['pepper', 'pepper']\n",
      "----------------Puncuation Removal---------------------\n",
      "'When I'M a Duchess,' she said to herself, (not in a very hopeful tone\n",
      "... though), 'I won't have any testingwords in my kitchen AT ALL. Soup does very\n",
      "... well without--Maybe it's always testingwords that makes people hot-tempered,'...\n"
     ]
    }
   ],
   "source": [
    "# Stemming the text using porter stemmer\n",
    "from nltk.stem.porter import *\n",
    "stemmer = PorterStemmer()\n",
    "plurals = ['caresses', 'flies', 'dies', 'mules', 'denied','computer','computing','compute','better']\n",
    "singles = [stemmer.stem(plural) for plural in plurals]\n",
    "print(singles)\n",
    "lmtzr = nltk.stem.WordNetLemmatizer()\n",
    "tokensLmtz = [lmtzr.lemmatize(token) for token in plurals]\n",
    "print(tokensLmtz)\n",
    "print('----------------Puncuation Removal---------------------')\n",
    "\n",
    "import re\n",
    "raw = \"\"\"'When I'M a Duchess,' she said to herself, (not in a very hopeful tone\n",
    "... though), 'I won't have any pepper in my kitchen AT ALL. Soup does very\n",
    "... well without--Maybe it's always pepper that makes people hot-tempered,'...\"\"\"\n",
    "singles = re.findall(r'\\w+', raw)\n",
    "print(singles)\n",
    "\n",
    "\n",
    "print('----------------Puncuation Removal---------------------')\n",
    "rexexample = [w for w in singles if re.search('^pep', w)]\n",
    "print(rexexample)\n",
    "print('----------------Puncuation Removal---------------------')\n",
    "rexexample1 = raw.replace('pepper',\"testingwords\")\n",
    "print(rexexample1)"
   ]
  },
  {
   "cell_type": "markdown",
   "metadata": {},
   "source": [
    "Let's combine all the above functions into a single function"
   ]
  },
  {
   "cell_type": "code",
   "execution_count": 35,
   "metadata": {
    "collapsed": true
   },
   "outputs": [],
   "source": [
    "# Applying the necessary text preprocessing steps on the data\n",
    "def process_text(text):\n",
    "    sentences = nltk.tokenize.sent_tokenize(text)\n",
    "    sentence_tokens = [nltk.tokenize.word_tokenize(sentence) for sentence in sentences]\n",
    "    tokens = []\n",
    "    for sentence in sentence_tokens:\n",
    "        sent = []\n",
    "        for word in sentence:\n",
    "            if word.lower() not in stop:\n",
    "                sent.append(word.lower())\n",
    "        tokens.append(sent)\n",
    "    ##THE SAME FOR LOOP CAN BE WRITTEN AS FOLLOWS\n",
    "    ##tokens = [[word.lower() for word in sent if word not in stop] for sent in sentence_tokens]\n",
    "    tokens = [[lmtzr.lemmatize(word) for word in sent] for sent in tokens]\n",
    "    return tokens"
   ]
  },
  {
   "cell_type": "code",
   "execution_count": 36,
   "metadata": {
    "collapsed": false
   },
   "outputs": [
    {
     "name": "stdout",
     "output_type": "stream",
     "text": [
      "At Waterloo we were fortunate in catching a don't train for Leatherhead, where we hired a trap at the station inn and drove for four or five miles through the lovely Surrey lanes. \n",
      "It was a perfect day, with a bright sun and a few fleecy clouds in the heavens. \n",
      "The trees and wayside hedges were just throwing out their first green shoots, and the air was full of the pleasant smell of the moist earth. To me at least there was a strange contrast between the sweet promise of the spring and this sinister quest upon which we were engaged. \n",
      "My companion sat in the front of the trap, his arms folded, his hat pulled down over his eyes, and his chin sunk upon his breast, buried in the deepest thought. \n",
      "Suddenly, however, he started, tapped me on the shoulder, and pointed over the meadows.\n",
      "\n",
      "[['waterloo', 'fortunate', 'catching', \"n't\", 'train', 'leatherhead', ',', 'hired', 'trap', 'station', 'inn', 'drove', 'four', 'five', u'mile', 'lovely', 'surrey', u'lane', '.'], ['perfect', 'day', ',', 'bright', 'sun', 'fleecy', u'cloud', u'heaven', '.'], [u'tree', 'wayside', u'hedge', 'throwing', 'first', 'green', u'shoot', ',', 'air', 'full', 'pleasant', 'smell', 'moist', 'earth', '.'], ['least', 'strange', 'contrast', 'sweet', 'promise', 'spring', 'sinister', 'quest', 'upon', 'engaged', '.'], ['companion', 'sat', 'front', 'trap', ',', u'arm', 'folded', ',', 'hat', 'pulled', u'eye', ',', 'chin', 'sunk', 'upon', 'breast', ',', 'buried', 'deepest', 'thought', '.'], ['suddenly', ',', 'however', ',', 'started', ',', 'tapped', 'shoulder', ',', 'pointed', u'meadow', '.']]\n"
     ]
    }
   ],
   "source": [
    "# Calling the function\n",
    "sentenced_tokens = process_text(string)\n",
    "print(string)\n",
    "print(sentenced_tokens)"
   ]
  },
  {
   "cell_type": "markdown",
   "metadata": {},
   "source": [
    "#### Word-count"
   ]
  },
  {
   "cell_type": "code",
   "execution_count": 41,
   "metadata": {
    "collapsed": false
   },
   "outputs": [
    {
     "name": "stdout",
     "output_type": "stream",
     "text": [
      "<FreqDist with 0 samples and 0 outcomes>\n",
      "<FreqDist with 70 samples and 87 outcomes>\n"
     ]
    }
   ],
   "source": [
    "word_count = nltk.FreqDist() #WE INITIALIZE AN EMPTY FREQUENCY COUNTER\n",
    "print(word_count)\n",
    "#print('Frequency of the word \"upon\" during initialization is {}'.format(ngram_freq['upon']))\n",
    "\n",
    "#Which means the default frequency is set to zero\n",
    "#We update the frequency for each word as follows.\n",
    "for token in tokens:\n",
    "    word_count[token] += 1\n",
    "# print('Frequency of the word \"upon\" after update is {}'.format(ngram_freq['upon']))\n",
    "print(word_count)"
   ]
  },
  {
   "cell_type": "code",
   "execution_count": 42,
   "metadata": {
    "collapsed": false
   },
   "outputs": [
    {
     "data": {
      "text/plain": [
       "[(',', 11),\n",
       " ('.', 6),\n",
       " ('upon', 2),\n",
       " ('trap', 2),\n",
       " ('surrey', 1),\n",
       " (u'meadow', 1),\n",
       " ('throwing', 1),\n",
       " ('sweet', 1),\n",
       " ('pointed', 1),\n",
       " ('wayside', 1)]"
      ]
     },
     "execution_count": 42,
     "metadata": {},
     "output_type": "execute_result"
    }
   ],
   "source": [
    "word_count.most_common(10)"
   ]
  },
  {
   "cell_type": "code",
   "execution_count": 43,
   "metadata": {
    "collapsed": false
   },
   "outputs": [
    {
     "data": {
      "text/plain": [
       "FreqDist({',': 11,\n",
       "          '.': 6,\n",
       "          'air': 1,\n",
       "          u'arm': 1,\n",
       "          'breast': 1,\n",
       "          'bright': 1,\n",
       "          'buried': 1,\n",
       "          'catching': 1,\n",
       "          'chin': 1,\n",
       "          u'cloud': 1,\n",
       "          'companion': 1,\n",
       "          'contrast': 1,\n",
       "          'day': 1,\n",
       "          'deepest': 1,\n",
       "          'drove': 1,\n",
       "          'earth': 1,\n",
       "          'engaged': 1,\n",
       "          u'eye': 1,\n",
       "          'first': 1,\n",
       "          'five': 1,\n",
       "          'fleecy': 1,\n",
       "          'folded': 1,\n",
       "          'fortunate': 1,\n",
       "          'four': 1,\n",
       "          'front': 1,\n",
       "          'full': 1,\n",
       "          'green': 1,\n",
       "          'hat': 1,\n",
       "          u'heaven': 1,\n",
       "          u'hedge': 1,\n",
       "          'hired': 1,\n",
       "          'however': 1,\n",
       "          'inn': 1,\n",
       "          u'lane': 1,\n",
       "          'least': 1,\n",
       "          'leatherhead': 1,\n",
       "          'lovely': 1,\n",
       "          u'meadow': 1,\n",
       "          u'mile': 1,\n",
       "          'moist': 1,\n",
       "          \"n't\": 1,\n",
       "          'perfect': 1,\n",
       "          'pleasant': 1,\n",
       "          'pointed': 1,\n",
       "          'promise': 1,\n",
       "          'pulled': 1,\n",
       "          'quest': 1,\n",
       "          'sat': 1,\n",
       "          u'shoot': 1,\n",
       "          'shoulder': 1,\n",
       "          'sinister': 1,\n",
       "          'smell': 1,\n",
       "          'spring': 1,\n",
       "          'started': 1,\n",
       "          'station': 1,\n",
       "          'strange': 1,\n",
       "          'suddenly': 1,\n",
       "          'sun': 1,\n",
       "          'sunk': 1,\n",
       "          'surrey': 1,\n",
       "          'sweet': 1,\n",
       "          'tapped': 1,\n",
       "          'thought': 1,\n",
       "          'throwing': 1,\n",
       "          'train': 1,\n",
       "          'trap': 2,\n",
       "          u'tree': 1,\n",
       "          'upon': 2,\n",
       "          'waterloo': 1,\n",
       "          'wayside': 1})"
      ]
     },
     "execution_count": 43,
     "metadata": {},
     "output_type": "execute_result"
    }
   ],
   "source": [
    "word_count"
   ]
  },
  {
   "cell_type": "code",
   "execution_count": 44,
   "metadata": {
    "collapsed": true
   },
   "outputs": [],
   "source": [
    "import json\n",
    "with open('word_freqs.json', 'w') as f:\n",
    "    json.dump(word_count, f)"
   ]
  },
  {
   "cell_type": "markdown",
   "metadata": {},
   "source": [
    "#### n-grams"
   ]
  },
  {
   "cell_type": "code",
   "execution_count": 45,
   "metadata": {
    "collapsed": false,
    "scrolled": true
   },
   "outputs": [
    {
     "name": "stdout",
     "output_type": "stream",
     "text": [
      "('<s>', 'waterloo') ('waterloo', 'fortunate') ('fortunate', 'catching') ('catching', \"n't\") (\"n't\", 'train') ('train', 'leatherhead') ('leatherhead', ',') (',', 'hired') ('hired', 'trap') ('trap', 'station') ('station', 'inn') ('inn', 'drove') ('drove', 'four') ('four', 'five') ('five', u'mile') (u'mile', 'lovely') ('lovely', 'surrey') ('surrey', u'lane') (u'lane', '.') ('.', 'perfect') ('perfect', 'day') ('day', ',') (',', 'bright') ('bright', 'sun') ('sun', 'fleecy') ('fleecy', u'cloud') (u'cloud', u'heaven') (u'heaven', '.') ('.', u'tree') (u'tree', 'wayside') ('wayside', u'hedge') (u'hedge', 'throwing') ('throwing', 'first') ('first', 'green') ('green', u'shoot') (u'shoot', ',') (',', 'air') ('air', 'full') ('full', 'pleasant') ('pleasant', 'smell') ('smell', 'moist') ('moist', 'earth') ('earth', '.') ('.', 'least') ('least', 'strange') ('strange', 'contrast') ('contrast', 'sweet') ('sweet', 'promise') ('promise', 'spring') ('spring', 'sinister') ('sinister', 'quest') ('quest', 'upon') ('upon', 'engaged') ('engaged', '.') ('.', 'companion') ('companion', 'sat') ('sat', 'front') ('front', 'trap') ('trap', ',') (',', u'arm') (u'arm', 'folded') ('folded', ',') (',', 'hat') ('hat', 'pulled') ('pulled', u'eye') (u'eye', ',') (',', 'chin') ('chin', 'sunk') ('sunk', 'upon') ('upon', 'breast') ('breast', ',') (',', 'buried') ('buried', 'deepest') ('deepest', 'thought') ('thought', '.') ('.', 'suddenly') ('suddenly', ',') (',', 'however') ('however', ',') (',', 'started') ('started', ',') (',', 'tapped') ('tapped', 'shoulder') ('shoulder', ',') (',', 'pointed') ('pointed', u'meadow') (u'meadow', '.') ('.', '</s>')\n"
     ]
    }
   ],
   "source": [
    "bigrams = list(nltk.ngrams(tokens, 2, pad_right = True, right_pad_symbol='</s>', pad_left=True, left_pad_symbol='<s>'))\n",
    "for ngram in bigrams:\n",
    "    print(ngram),"
   ]
  },
  {
   "cell_type": "markdown",
   "metadata": {},
   "source": [
    "#### We can also compute frequencies of n-grams"
   ]
  },
  {
   "cell_type": "code",
   "execution_count": 46,
   "metadata": {
    "collapsed": false
   },
   "outputs": [
    {
     "name": "stdout",
     "output_type": "stream",
     "text": [
      "[(('pulled', u'eye'), 1), (('wayside', u'hedge'), 1), (('spring', 'sinister'), 1), (('bright', 'sun'), 1), (('perfect', 'day'), 1), (('train', 'leatherhead'), 1), (('folded', ','), 1), (('thought', '.'), 1), (('four', 'five'), 1), (('promise', 'spring'), 1), ((',', 'buried'), 1), (('moist', 'earth'), 1), (('upon', 'engaged'), 1), ((',', 'tapped'), 1), ((',', u'arm'), 1), (('hired', 'trap'), 1), (('hat', 'pulled'), 1), (('.', 'perfect'), 1), ((u'hedge', 'throwing'), 1), ((u'lane', '.'), 1)]\n"
     ]
    }
   ],
   "source": [
    "ngram_freq = nltk.FreqDist()\n",
    "for ngram in bigrams:\n",
    "    ngram_freq[ngram] += 1\n",
    "print(ngram_freq.most_common(20))"
   ]
  },
  {
   "cell_type": "markdown",
   "metadata": {},
   "source": [
    "Since the corpus is too small we no ngrams. Let's load a larger corpus from a text now"
   ]
  },
  {
   "cell_type": "code",
   "execution_count": 47,
   "metadata": {
    "collapsed": false
   },
   "outputs": [
    {
     "name": "stdout",
     "output_type": "stream",
     "text": [
      "[The Tragedie of Macbeth by William Shakespeare 1603]\n",
      "\n",
      "\n",
      "Actus Primus. Scoena Prima.\n",
      "\n",
      "Thunder and Lightning. Enter three Witches.\n",
      "\n",
      "  1. When shall we three meet againe?\n",
      "In Thunder, Lightning, or in Raine?\n",
      "  2. When the Hurley-burley's done,\n",
      "When the Battaile's lost, and wonne\n",
      "\n",
      "   3. That will be ere \n"
     ]
    }
   ],
   "source": [
    "with open('shakespeare-macbeth.txt', 'r') as input_file:\n",
    "    raw_text = input_file.read()\n",
    "\n",
    "print(raw_text[:300])"
   ]
  },
  {
   "cell_type": "code",
   "execution_count": 56,
   "metadata": {
    "collapsed": false
   },
   "outputs": [
    {
     "name": "stdout",
     "output_type": "stream",
     "text": [
      "[((',', 'and'), 276), (('Macb', '.'), 137), ((',', 'And'), 124), (('.', 'Enter'), 73), (('.', 'I'), 70), (('Macd', '.'), 58), ((',', 'I'), 55), (('.', 'What'), 50), ((',', 'That'), 48), ((',', 'that'), 47)]\n"
     ]
    }
   ],
   "source": [
    "bigram_freq = nltk.FreqDist()\n",
    "corpus_tokens = nltk.tokenize.word_tokenize(raw_text)\n",
    "bigrams = list(nltk.ngrams(corpus_tokens, 2))\n",
    "for bigram_token in bigrams:\n",
    "    bigram_freq[bigram_token] += 1\n",
    "print(bigram_freq.most_common(10))"
   ]
  },
  {
   "cell_type": "markdown",
   "metadata": {},
   "source": [
    "### Questions: \n",
    "* How many words are there in the text? How many sentences are there in the text?\n",
    "* How many unique words are there in the text?\n",
    "* What is the average length of a word in the text?\n",
    "### Optional: (But submitting the solution on piazza will give you additional credit in GNQ)\n",
    "* Remove the stop words and store the tokens in a list.\n",
    "* What are the 10 most common unigrams in the processed text?\n",
    "* What are the 10 most common bigrams in the processed text?"
   ]
  },
  {
   "cell_type": "code",
   "execution_count": null,
   "metadata": {
    "collapsed": false
   },
   "outputs": [],
   "source": [
    "## WRITE YOUR CODES HERE\n"
   ]
  },
  {
   "cell_type": "markdown",
   "metadata": {},
   "source": [
    "### A simple word cloud generator"
   ]
  },
  {
   "cell_type": "code",
   "execution_count": 51,
   "metadata": {
    "collapsed": false
   },
   "outputs": [
    {
     "data": {
      "image/png": "[encoded data removed]",
      "text/plain": [
       "<matplotlib.figure.Figure at 0x10e686d8>"
      ]
     },
     "metadata": {},
     "output_type": "display_data"
    }
   ],
   "source": [
    "import wordcloud\n",
    "wc = wordcloud.WordCloud()\n",
    "img = wc.generate_from_text(raw_text)\n",
    "import matplotlib.pyplot as plt\n",
    "%matplotlib inline\n",
    "plt.imshow(img)\n",
    "plt.show()"
   ]
  },
  {
   "cell_type": "code",
   "execution_count": null,
   "metadata": {
    "collapsed": true
   },
   "outputs": [],
   "source": []
  }
 ],
 "metadata": {
  "anaconda-cloud": {},
  "kernelspec": {
   "display_name": "Python [conda root]",
   "language": "python",
   "name": "conda-root-py"
  },
  "language_info": {
   "codemirror_mode": {
    "name": "ipython",
    "version": 3
   },
   "file_extension": ".py",
   "mimetype": "text/x-python",
   "name": "python",
   "nbconvert_exporter": "python",
   "pygments_lexer": "ipython3",
   "version": "3.5.2"
  }
 },
 "nbformat": 4,
 "nbformat_minor": 0
}
