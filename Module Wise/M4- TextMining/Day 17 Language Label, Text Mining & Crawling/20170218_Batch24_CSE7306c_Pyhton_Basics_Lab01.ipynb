{
 "cells": [
  {
   "cell_type": "markdown",
   "metadata": {},
   "source": [
    "# Basics\n",
    "\n",
    "Press SHIFT+ENTER TO EXECUTE A CELL OF CODE"
   ]
  },
  {
   "cell_type": "code",
   "execution_count": 1,
   "metadata": {
    "collapsed": false,
    "scrolled": true
   },
   "outputs": [
    {
     "name": "stdout",
     "output_type": "stream",
     "text": [
      "2\n",
      "4.08\n",
      "1.5\n",
      "1.5\n",
      "test\n",
      "sample\n",
      "string\n"
     ]
    }
   ],
   "source": [
    "##Comments begin with a '#' symbol.\n",
    "print(1+1)\n",
    "print(1.2*3.4)\n",
    "print(3/2)\n",
    "print(3.0/2)\n",
    "a = 'test'\n",
    "print(a)\n",
    "b = 'sample\\nstring'\n",
    "print(b)\n"
   ]
  },
  {
   "cell_type": "code",
   "execution_count": 3,
   "metadata": {
    "collapsed": false
   },
   "outputs": [
    {
     "name": "stdout",
     "output_type": "stream",
     "text": [
      "['1', 2, 'a', 3, 'hello']\n",
      "5%4 1\n",
      "11%7 4\n",
      "5>4  True\n",
      "False\n",
      "False\n",
      "False\n",
      "True\n",
      "1\n",
      "0\n",
      "1\n",
      "1\n",
      "True\n",
      "False\n",
      "True\n",
      "True\n"
     ]
    }
   ],
   "source": [
    "c = ['1', 2, 'a', 3, 'hello']\n",
    "print(c)\n",
    "print(\"5%4\",5%4) #remainder function.\n",
    "print(\"11%7\",11%7)\n",
    "print(\"5>4  {}\".format(5 > 4))\n",
    "print(5<4)\n",
    "print(5<=4)\n",
    "print(4 == 3)\n",
    "print(5 != 4)\n",
    "print(1&1)\n",
    "print(1&0)\n",
    "print(1|1)\n",
    "print(1|0)\n",
    "print(True&True)\n",
    "print(True&False)\n",
    "print(True|True)\n",
    "print(True|False)"
   ]
  },
  {
   "cell_type": "markdown",
   "metadata": {},
   "source": [
    "# Variable assignments"
   ]
  },
  {
   "cell_type": "code",
   "execution_count": 3,
   "metadata": {
    "collapsed": false
   },
   "outputs": [
    {
     "name": "stdout",
     "output_type": "stream",
     "text": [
      "9\n",
      "1.0\n",
      "18\n",
      "3\n",
      "729\n",
      "729\n"
     ]
    }
   ],
   "source": [
    "x = 3\n",
    "y = 6\n",
    "print(x+y)\n",
    "print(x/3)\n",
    "print(x*y)\n",
    "print(x%y)\n",
    "print(x**y)# \n",
    "print(pow(x,y))\n"
   ]
  },
  {
   "cell_type": "code",
   "execution_count": 13,
   "metadata": {
    "collapsed": false
   },
   "outputs": [
    {
     "name": "stdout",
     "output_type": "stream",
     "text": [
      "ener ur name:hf\n",
      "hf\n",
      "enter ur age:jkj\n",
      "jkj\n"
     ]
    }
   ],
   "source": [
    "name=input(\"ener ur name:\")\n",
    "print(name)\n",
    "age=input(\"enter ur age:\")\n",
    "print(age)"
   ]
  },
  {
   "cell_type": "code",
   "execution_count": 6,
   "metadata": {
    "collapsed": false
   },
   "outputs": [
    {
     "name": "stdout",
     "output_type": "stream",
     "text": [
      "True\n",
      "3 3\n",
      "3 3\n",
      "3 12\n",
      "1 2 hello\n"
     ]
    }
   ],
   "source": [
    "x,y=3,3\n",
    "print(y == x)\n",
    "print(x, y)\n",
    "x, y = y, x\n",
    "print(x, y)\n",
    "x, y = y, x*y+y\n",
    "print(x, y)\n",
    "x, y, z = 1, '2', 'hello'\n",
    "print(x, y, z)\n"
   ]
  },
  {
   "cell_type": "code",
   "execution_count": 7,
   "metadata": {
    "collapsed": false
   },
   "outputs": [
    {
     "name": "stdout",
     "output_type": "stream",
     "text": [
      "True\n",
      "False\n"
     ]
    }
   ],
   "source": [
    "# in OPERATOR\n",
    "x=[1,2,3]\n",
    "print(1 in x)\n",
    "print(5 in x)"
   ]
  },
  {
   "cell_type": "markdown",
   "metadata": {},
   "source": [
    "\n",
    "## Print formatting"
   ]
  },
  {
   "cell_type": "code",
   "execution_count": 8,
   "metadata": {
    "collapsed": false
   },
   "outputs": [
    {
     "name": "stdout",
     "output_type": "stream",
     "text": [
      "[1, 2, 3]\n",
      "the variable x has value:  [1, 2, 3]\n",
      "the variable x has value: [1, 2, 3]\n",
      "[1, 2, 3], 2\n",
      "2, [1, 2, 3]\n"
     ]
    }
   ],
   "source": [
    "print(x)\n",
    "print('the variable x has value: ', x) #This gives a tuple in python 2.x\n",
    "print('the variable x has value: {}'.format(x))\n",
    "print('{}, {}'.format(x, y))\n",
    "print('{1}, {0}'.format(x, y)) #positional formatting"
   ]
  },
  {
   "cell_type": "markdown",
   "metadata": {},
   "source": [
    "## Loops and Conditional statements"
   ]
  },
  {
   "cell_type": "code",
   "execution_count": 8,
   "metadata": {
    "collapsed": false,
    "scrolled": true
   },
   "outputs": [
    {
     "name": "stdout",
     "output_type": "stream",
     "text": [
      "1\n",
      "2\n",
      "3\n",
      "4\n",
      "1\n",
      "2\n",
      "3\n",
      "4\n",
      "\n",
      "\n",
      "\n",
      "6\n"
     ]
    }
   ],
   "source": [
    "# how to use for\n",
    "for i in [1, 2, 3, 4]:\n",
    "    print(i)\n",
    "# observe the difference between previous for and the bellow for\n",
    "for i in [1, 2, 3, 4]:\n",
    "    print (i), #the difference is a comma\n",
    "\n",
    "print('\\n'*2)\n",
    "#max of two numbers using simple if \n",
    "a,b=5,6\n",
    "if(a>b):\n",
    "    print(a)\n",
    "else:\n",
    "    print(b)\n",
    "\n"
   ]
  },
  {
   "cell_type": "code",
   "execution_count": 9,
   "metadata": {
    "collapsed": false
   },
   "outputs": [
    {
     "name": "stdout",
     "output_type": "stream",
     "text": [
      "range(0, 5)\n",
      "\n",
      "\n",
      "\n",
      "0 < 2\n",
      "1 < 2\n",
      "2 = 2\n",
      "3 > 2\n",
      "4 > 2\n",
      "==================================================\n"
     ]
    }
   ],
   "source": [
    "# usage of range is to create a sequence\n",
    "range_list = range(5)\n",
    "#above statement is equivalent to \"list = [0, 1, 2, 3, 4]\"\n",
    "print(range_list)\n",
    "print('\\n'*2)\n",
    "# usage of simple else if ladder\n",
    "for i in range_list:\n",
    "    if i < 2:\n",
    "        print('{} < 2'.format(i))\n",
    "    elif i == 2:\n",
    "        print('{} = 2'.format(i))\n",
    "    else:\n",
    "        print('{} > 2'.format(i))\n",
    "print('='*50)"
   ]
  },
  {
   "cell_type": "markdown",
   "metadata": {},
   "source": [
    "### Question: Print all the natural numbers below 100 which are multiples of 3 or 5"
   ]
  },
  {
   "cell_type": "code",
   "execution_count": 41,
   "metadata": {
    "collapsed": false
   },
   "outputs": [
    {
     "name": "stdout",
     "output_type": "stream",
     "text": [
      "3\n",
      "5\n",
      "6\n",
      "9\n",
      "10\n",
      "12\n",
      "15\n",
      "18\n",
      "20\n",
      "21\n",
      "24\n",
      "25\n",
      "27\n",
      "30\n",
      "33\n",
      "35\n",
      "36\n",
      "39\n",
      "40\n",
      "42\n",
      "45\n",
      "48\n",
      "50\n",
      "51\n",
      "54\n",
      "55\n",
      "57\n",
      "60\n",
      "63\n",
      "65\n",
      "66\n",
      "69\n",
      "70\n",
      "72\n",
      "75\n",
      "78\n",
      "80\n",
      "81\n",
      "84\n",
      "85\n",
      "87\n",
      "90\n",
      "93\n",
      "95\n",
      "96\n",
      "99\n"
     ]
    }
   ],
   "source": [
    "# Your answer here\n",
    "for i in range(1,100):\n",
    "    if (i%3==0 or i%5==0):\n",
    "        print(i)"
   ]
  },
  {
   "cell_type": "markdown",
   "metadata": {},
   "source": [
    "### Write a program which will find all such numbers which are divisible by 11 but are not a multiple of 5, between 2000 and 3200 (both included). The numbers obtained should be printed in a comma-separated sequence on a single line.\n",
    "Hint: Consider use range(#begin, #end) method"
   ]
  },
  {
   "cell_type": "code",
   "execution_count": 62,
   "metadata": {
    "collapsed": false,
    "scrolled": false
   },
   "outputs": [],
   "source": [
    "# Your Answer here"
   ]
  },
  {
   "cell_type": "code",
   "execution_count": null,
   "metadata": {
    "collapsed": true
   },
   "outputs": [],
   "source": []
  },
  {
   "cell_type": "code",
   "execution_count": 33,
   "metadata": {
    "collapsed": false
   },
   "outputs": [
    {
     "name": "stdout",
     "output_type": "stream",
     "text": [
      "2002\n",
      "2013\n",
      "2024\n",
      "2046\n",
      "2057\n",
      "2068\n",
      "2079\n",
      "2101\n",
      "2112\n",
      "2123\n",
      "2134\n",
      "2156\n",
      "2167\n",
      "2178\n",
      "2189\n",
      "2211\n",
      "2222\n",
      "2233\n",
      "2244\n",
      "2266\n",
      "2277\n",
      "2288\n",
      "2299\n",
      "2321\n",
      "2332\n",
      "2343\n",
      "2354\n",
      "2376\n",
      "2387\n",
      "2398\n",
      "2409\n",
      "2431\n",
      "2442\n",
      "2453\n",
      "2464\n",
      "2486\n",
      "2497\n",
      "2508\n",
      "2519\n",
      "2541\n",
      "2552\n",
      "2563\n",
      "2574\n",
      "2596\n",
      "2607\n",
      "2618\n",
      "2629\n",
      "2651\n",
      "2662\n",
      "2673\n",
      "2684\n",
      "2706\n",
      "2717\n",
      "2728\n",
      "2739\n",
      "2761\n",
      "2772\n",
      "2783\n",
      "2794\n",
      "2816\n",
      "2827\n",
      "2838\n",
      "2849\n",
      "2871\n",
      "2882\n",
      "2893\n",
      "2904\n",
      "2926\n",
      "2937\n",
      "2948\n",
      "2959\n",
      "2981\n",
      "2992\n",
      "3003\n",
      "3014\n",
      "3036\n",
      "3047\n",
      "3058\n",
      "3069\n",
      "3091\n",
      "3102\n",
      "3113\n",
      "3124\n",
      "3146\n",
      "3157\n",
      "3168\n",
      "3179\n"
     ]
    }
   ],
   "source": [
    "for i in range(2000,3200):\n",
    "    if(i%11==0 and i%5!=0):\n",
    "        print(i)"
   ]
  },
  {
   "cell_type": "markdown",
   "metadata": {},
   "source": [
    "## LISTS AND INDEXING"
   ]
  },
  {
   "cell_type": "code",
   "execution_count": 1,
   "metadata": {
    "collapsed": false,
    "scrolled": true
   },
   "outputs": [
    {
     "name": "stdout",
     "output_type": "stream",
     "text": [
      "['Machinelearning', 'TextMIning', 2014, 2016, 1.3]\n",
      "[1, 2, 3, 4, 5]\n",
      "['a', 'b', 'c', 'd']\n"
     ]
    }
   ],
   "source": [
    "list1 = ['Machinelearning', 'TextMIning', 2014, 2016,1.3]\n",
    "list2 = [1, 2, 3, 4, 5 ];\n",
    "list3 = [\"a\", \"b\", \"c\", \"d\"]\n",
    "print(list1)\n",
    "print(list2)\n",
    "print(list3)\n"
   ]
  },
  {
   "cell_type": "markdown",
   "metadata": {},
   "source": [
    "# Accessing Values from List"
   ]
  },
  {
   "cell_type": "code",
   "execution_count": 2,
   "metadata": {
    "collapsed": false
   },
   "outputs": [
    {
     "name": "stdout",
     "output_type": "stream",
     "text": [
      "Machinelearning\n",
      "TextMIning\n",
      "2014\n",
      "['Machinelearning', 'TextMIning', 2014, 2016, 1.3]\n",
      "length of list1 5\n",
      "['Machinelearning', 'TextMIning', 2014, 2016, 1.3]\n",
      "[1, 2, 3, 4, 5]\n",
      "[1, 2, 3, 4, 5]\n",
      "['a', 'b', 'c', 'd']\n",
      "['Machinelearning', 'TextMIning', 2014, 2016, 1.3, 1, 2, 3, 4, 5, 'a', 'b', 'c', 'd']\n",
      "['Machinelearning', 'TextMIning', 2014, 2016, 1.3, 'a', 'b']\n",
      "49\n"
     ]
    }
   ],
   "source": [
    "#individual elements can be accessed through index\n",
    "print(list1[0])# indexing starts from zero\n",
    "print(list1[1])\n",
    "print(list1[2])\n",
    "print(list1[0:5])# : scope operate can enable you to access multiple elements till 5-1 position\n",
    "print(\"length of list1\",len(list1))## len gives legth (number of elements in list) of list\n",
    "print(list1[0:len(list1)])\n",
    "print(list2[0:6])\n",
    "print(list2[0:len(list2)])\n",
    "print(list3[0:len(list3)])\n",
    "\n",
    "combined=list1+list2+list3\n",
    "print(combined)\n",
    "list1.extend(['a','b'])\n",
    "print(list1)\n",
    "\n",
    "list = [1, 2, 3, 11, 12, 13, 3, 4]\n",
    "print(sum(list))\n"
   ]
  },
  {
   "cell_type": "markdown",
   "metadata": {},
   "source": [
    "## Guess the out put of the following with out executing "
   ]
  },
  {
   "cell_type": "code",
   "execution_count": 3,
   "metadata": {
    "collapsed": false
   },
   "outputs": [
    {
     "name": "stdout",
     "output_type": "stream",
     "text": [
      "[1, 2, 3, 'A']\n",
      "[1, 2, 3, 'A', '12', 13]\n",
      "[3, 'A', '12', 13, 3, 4]\n"
     ]
    }
   ],
   "source": [
    "list = [1, 2, 3,'A', '12', 13, 3, 4,'hai']\n",
    "print(list[0:4])\n",
    "print(list[:6])\n",
    "print(list[2:8])"
   ]
  },
  {
   "cell_type": "code",
   "execution_count": 4,
   "metadata": {
    "collapsed": false
   },
   "outputs": [
    {
     "name": "stdout",
     "output_type": "stream",
     "text": [
      "[1, 2, 3, 'A', '12', 13, 3, 4, 'hai']\n",
      "hai\n",
      "3\n",
      "['A', '12', 13]\n"
     ]
    }
   ],
   "source": [
    "print(list)\n",
    "print(list[-1]) #prints the last element\n",
    "print(list[-3])\n",
    "print(list[3:-3])"
   ]
  },
  {
   "cell_type": "markdown",
   "metadata": {},
   "source": [
    "# different methods in lists"
   ]
  },
  {
   "cell_type": "code",
   "execution_count": 50,
   "metadata": {
    "collapsed": false
   },
   "outputs": [
    {
     "name": "stdout",
     "output_type": "stream",
     "text": [
      "[1, 2, 3, 11, 12, 13, 3, 4]\n",
      "[1, 2, 3, 11, 12, 13, 3, 4, 0]\n",
      "[1, 2, 3, 11, 12, 13, 3, 4, 0, 12, 13, 14]\n",
      "[1, 2, 3, 11, 12, 13, 3, 4, 0, 12, 13, 14, 1, 2, 3, 4]\n",
      "12\n",
      "0\n",
      "[1, 23, 3, 11, 12, 13, 3, 4, 0, 12, 13, 14]\n"
     ]
    }
   ],
   "source": [
    "list = [1, 2, 3, 11, 12, 13, 3, 4]\n",
    "print(list)\n",
    "list.append(0)\n",
    "print(list)\n",
    "list.extend([12, 13, 14])\n",
    "print(list)\n",
    "print(list+[1,2,3,4])\n",
    "print(len(list))\n",
    "print(list.index(1))\n",
    "list[1]=23# lists can be updated\n",
    "print(list)\n",
    "\n",
    "#just another example use of append\n",
    "l=range(100)\n",
    "print(l)\n",
    "l1=[]\n",
    "for i  in l :\n",
    "    l1.append(i)\n",
    "print(\"after copying\")\n",
    "print(l1)\n",
    "type(l1)\n"
   ]
  },
  {
   "cell_type": "markdown",
   "metadata": {},
   "source": [
    "# List Comprehensions"
   ]
  },
  {
   "cell_type": "code",
   "execution_count": 9,
   "metadata": {
    "collapsed": false
   },
   "outputs": [
    {
     "name": "stdout",
     "output_type": "stream",
     "text": [
      "[1, 2, 3, 4, 5, 6]\n",
      "[15, 27, 39, 51, 63, 75]\n",
      "[15, 27, 39, 51, 63, 75]\n",
      "[36, 48, 60, 72]\n"
     ]
    }
   ],
   "source": [
    "list = [1, 2, 3, 4, 5, 6]\n",
    "print([i for i in list])\n",
    "print([i*12+3 for i in list])\n",
    "a = [i*12+3 for i in list]\n",
    "print(a)\n",
    "print([i*12 for i in list if i > 2])\n"
   ]
  },
  {
   "cell_type": "markdown",
   "metadata": {},
   "source": [
    "### A String is a list too!!\n",
    "###IT IS CONSIDERED AS A LIST OF CHARACTERS\n",
    "###please observe the output of the following statements"
   ]
  },
  {
   "cell_type": "code",
   "execution_count": 6,
   "metadata": {
    "collapsed": false
   },
   "outputs": [
    {
     "name": "stdout",
     "output_type": "stream",
     "text": [
      "Lorem Lorem ipsum dolor sit amet, consectetur adipisicing elit, sed do eiusmod tempor incididunt ut labore et dolore magna aliqua. Ut enim ad minim veniam\n",
      "L\n",
      "Lorem Lorem ipsum dolor sit amet, consectetur adipisicing elit, sed do eiusmod tempor incididunt ut \n",
      "['Lorem', 'Lorem', 'ipsum', 'dolor', 'sit', 'amet,', 'consectetur', 'adipisicing', 'elit,', 'sed', 'do', 'eiusmod', 'tempor', 'incididunt', 'ut', 'labore', 'et', 'dolore', 'magna', 'aliqua.', 'Ut', 'enim', 'ad', 'minim', 'veniam']\n",
      "['Lor', 'm Lor', 'm ipsum dolor sit am', 't, consectetur adipisicing elit, sed do eiusmod tempor incididunt ut labore et dolore magna aliqua. Ut enim ad minim veniam']\n",
      "lorem lorem ipsum dolor sit amet, consectetur adipisicing elit, sed do eiusmod tempor incididunt ut labore et dolore magna aliqua. ut enim ad minim veniam\n",
      "Loram Loram ipsum dolor sit amat, consactatur adipisicing alit, sad do aiusmod tampor incididunt ut labora at dolora magna aliqua. Ut anim ad minim vaniam\n",
      "154\n",
      "2\n",
      "['Lorem', 'Lorem', 'ipsum', 'dolor', 'sit', 'amet,', 'consectetur', 'adipisicing', 'elit,', 'sed', 'do', 'eiusmod', 'tempor', 'incididunt', 'ut', 'labore', 'et', 'dolore', 'magna', 'aliqua.', 'Ut', 'enim', 'ad', 'minim', 'veniam']\n",
      "Lorem Lorem ipsum dolor sit amet, consectetur adipisicing elit, sed do eiusmod tempor incididunt ut labore et dolore magna aliqua. Ut enim ad minim veniam\n",
      "Lorem abc Lorem abc ipsum abc dolor abc sit abc amet, abc consectetur abc adipisicing abc elit, abc sed abc do abc eiusmod abc tempor abc incididunt abc ut abc labore abc et abc dolore abc magna abc aliqua. abc Ut abc enim abc ad abc minim abc veniam\n"
     ]
    }
   ],
   "source": [
    "string = 'Lorem Lorem ipsum dolor sit amet, consectetur adipisicing elit, sed do eiusmod tempor incididunt ut labore et dolore magna aliqua. Ut enim ad minim veniam'\n",
    "print(string)\n",
    "print(string[0])\n",
    "print(string[:100])\n",
    "print(string.split())\n",
    "print(string.split('e', 3))\n",
    "print(string.lower())\n",
    "print(string.replace('e', 'a'))\n",
    "print(len(string))\n",
    "print(string.count('Lorem'))\n",
    "tokens = string.split()\n",
    "print(tokens)\n",
    "print(' '.join(tokens))\n",
    "print(' abc '.join(tokens))"
   ]
  },
  {
   "cell_type": "markdown",
   "metadata": {},
   "source": [
    "## Explore different methods in strings given para_str"
   ]
  },
  {
   "cell_type": "code",
   "execution_count": 17,
   "metadata": {
    "collapsed": false
   },
   "outputs": [
    {
     "name": "stdout",
     "output_type": "stream",
     "text": [
      "['this', 'test', 'is', 'a', 'long', 'string', 'that', 'is', 'made', 'up', 'of', 'several', 'lines', 'and', 'non-printable', 'characters', 'such', 'as', 'TAB', '(', ')', 'and', 'they', 'will', 'show', 'up', 'that', 'way', 'when', 'displayed.', 'NEWLINEs', 'within', 'the', 'string,test', 'whether', 'explicitly', 'given', 'like', 'this', 'within', 'the', 'brackets', '[', '],', 'or', 'just', 'a', 'NEWLINE', 'within', 'the', 'variable', 'assignment', 'will', 'also', 'test', 'show', 'up.']\n",
      "2\n"
     ]
    }
   ],
   "source": [
    "para_str = \"\"\"this test is a long string that is made up of\n",
    "several lines and non-printable characters such as\n",
    "TAB ( \\t ) and they will show up that way when displayed.\n",
    "NEWLINEs within the string,test  whether explicitly given like\n",
    "this within the brackets [ \\n ], or just a NEWLINE within\n",
    "the variable assignment will also test show up.\n",
    "\"\"\"\n",
    "\n",
    "### yOUR CODE HERE\n",
    "# Convert this string to lower case\n",
    "#print(para_str.lower())\n",
    "\n",
    "# # Covert this string to upper case\n",
    "#print(para_str.upper())\n",
    "\n",
    "# # Only the first alphabet of this sentence should be capital\n",
    "\n",
    "\n",
    "# # Split this string into words and name the list as z.\n",
    "#print(para_str.split('z'))\n",
    "\n",
    "# Replace the word ‘test’ with ‘tested’ in para_str \n",
    "#print(para_str.replace('test','tested'))\n",
    "\n",
    "# # Replace the word ‘tested’ with ‘test’ in the list para_str.\n",
    "#print(para_str.replace('tested','test'))\n",
    "\n",
    "# Now combine the words in the list and make the sentence.\n",
    "token = para_str.split()\n",
    "print(token)\n",
    "\n",
    "# In the new sentence find if there is a letter ‘z’ in it\n",
    "print(para_str.count('will'))\n",
    "\n",
    "# Replace spaces with hyphens in new sentence. Then make the words uppercase and split on hyphens in a single line\n",
    "#print(' - '.join(tokens))\n",
    "#dir(string)\n",
    "#?dir(para_str)\n",
    "#?string.splitlines\n"
   ]
  },
  {
   "cell_type": "markdown",
   "metadata": {},
   "source": [
    "## SETS"
   ]
  },
  {
   "cell_type": "code",
   "execution_count": 7,
   "metadata": {
    "collapsed": false
   },
   "outputs": [
    {
     "name": "stdout",
     "output_type": "stream",
     "text": [
      "['A', 'B', 'C', 'D', 'E', 'A']\n",
      "operations on sets\n",
      "True\n",
      "{'E', 'A', 'C', 'D', 'B'}\n",
      "{'A'}\n",
      "{'E', 'D', 'C', 'B'}\n",
      "True\n",
      "{'E', 'A', 'C', 'D', 'B'}\n",
      "{'A'}\n",
      "{'E', 'D', 'C', 'B'}\n",
      "True\n",
      "False\n",
      "{'d', 'r'}\n",
      "{'A'}\n"
     ]
    }
   ],
   "source": [
    "\n",
    "l1=['A','B','C','D','E']\n",
    "l2=['A']\n",
    "print(l1+l2)\n",
    "print(\"operations on sets\")\n",
    "s1=set(l1)\n",
    "s2=set(l2)\n",
    "print(s1.issuperset(s2))#s1>=s2\n",
    "print(s1.union(s2))#s1|s2\n",
    "print(s1.intersection(s2))#s1&s2\n",
    "print(s1.difference(s2))#s1-s2\n",
    "#JUST CHECKING ALL OPERATIONS\n",
    "print(s1>=s2)#\n",
    "print(s1|s2)#s1|s2\n",
    "print(s1&s2)#s1&s2\n",
    "print(s1-s2)#s1-s2\n",
    "# usage of 'in' operator with sets\n",
    "print('A' in l1)\n",
    "print('F' in l2)\n",
    "#just some additional things \n",
    "# set comprehension\n",
    "a = {x for x in 'abracadabra' if x not in 'abc'}\n",
    "print(a)\n",
    "b={x for x in s1 if x  in s2}\n",
    "print(b)\n"
   ]
  },
  {
   "cell_type": "markdown",
   "metadata": {},
   "source": [
    "## Tuples"
   ]
  },
  {
   "cell_type": "code",
   "execution_count": 98,
   "metadata": {
    "collapsed": false
   },
   "outputs": [
    {
     "name": "stdout",
     "output_type": "stream",
     "text": [
      "(1, 2, 3)\n",
      "((1, 2, 3), (5, 10, 15))\n",
      "(1, 2, 3)\n",
      "(5, 10, 15)\n",
      "2\n",
      "3\n",
      "([1, 2, 3], ['hai', 'python', '2.7'], 'welcome')\n",
      "([10, 2, 3], ['hai', 'python', '2.7'], 'welcome')\n",
      "x is 1\n",
      "2\n",
      "3\n",
      "True\n",
      "False\n"
     ]
    }
   ],
   "source": [
    "t1=(1,2,3) # 1,2,3\n",
    "print (t1)\n",
    "type(t)\n",
    "# tuples can be nested\n",
    "t2=((1,2,3),(5,10,15)) # or (1,2,3),(5,10,15)\n",
    "print(t2)\n",
    "print(t2[0])\n",
    "print(t2[1])\n",
    "print(t2[0][1])\n",
    "print(t2[0][2])\n",
    "#t2[0]=4,5,6 # generates error tuples are immutable\n",
    "#print(t2) # generates error tuples are immutable\n",
    "\n",
    "# but tuple can contain mutable objects\n",
    "t3=([1,2,3],['hai','python','2.7'],\"welcome\")\n",
    "print(t3)\n",
    "t3[0][0]=10# i am updating list present in tuple\n",
    "print(t3)\n",
    "# you can also assign a tuple to multiple variables \n",
    "x,y,z=t1\n",
    "print(\"x is\",x)\n",
    "print(y)\n",
    "print(z)\n",
    "# usage of 'in' with tuples\n",
    "print(1 in t1)\n",
    "print(9 in t1)\n"
   ]
  },
  {
   "cell_type": "markdown",
   "metadata": {},
   "source": [
    "## Dictionaries\n"
   ]
  },
  {
   "cell_type": "code",
   "execution_count": 18,
   "metadata": {
    "collapsed": false
   },
   "outputs": [
    {
     "name": "stdout",
     "output_type": "stream",
     "text": [
      "value1\n",
      "3.22\n",
      "4\n",
      "4.220000000000001\n",
      "['a', 'b', 3]\n",
      "keys --> dict_keys(['list', 'key1', '3', 4.0, 'key2'])\n",
      "values --> dict_values([['a', 'b', 3], 'value1', 4.220000000000001, '4', 'value2'])\n"
     ]
    }
   ],
   "source": [
    "my_dict = {'key1':'value1', 4.0:'4', '3':3.22, 'list':['a', 'b', 3], 'key2':'value2'}\n",
    "print(my_dict['key1'])\n",
    "print(my_dict['3'])\n",
    "print(my_dict[4])\n",
    "my_dict['3'] += 1\n",
    "print(my_dict['3'])\n",
    "# print(my_dict[3])\n",
    "print(my_dict['list'])\n",
    "print('keys --> {}'.format(my_dict.keys()))\n",
    "print('values --> {}'.format(my_dict.values()))"
   ]
  },
  {
   "cell_type": "code",
   "execution_count": 20,
   "metadata": {
    "collapsed": false
   },
   "outputs": [
    {
     "name": "stdout",
     "output_type": "stream",
     "text": [
      "{'word1': 30, 'word2': 300}\n"
     ]
    }
   ],
   "source": [
    "c1 = {'word1': 1000, 'word2':299}\n",
    "c2 = {'word2': 300, 'word1':30}\n",
    "\n",
    "word_count = c1.copy()\n",
    "word_count.update(c2)\n",
    "\n",
    "print(word_count)"
   ]
  },
  {
   "cell_type": "markdown",
   "metadata": {},
   "source": [
    "## Functions\n"
   ]
  },
  {
   "cell_type": "code",
   "execution_count": 32,
   "metadata": {
    "collapsed": false
   },
   "outputs": [
    {
     "data": {
      "text/plain": [
       "12"
      ]
     },
     "execution_count": 32,
     "metadata": {},
     "output_type": "execute_result"
    }
   ],
   "source": [
    "def mult(input1, input2):\n",
    "    product = input1*input2\n",
    "    return(product)\n",
    "\n",
    "mult(3, 4)"
   ]
  },
  {
   "cell_type": "markdown",
   "metadata": {},
   "source": [
    "### Question: Define a function max() that takes two numbers as arguments and returns the largest of them. Use the if-then-else construct available in Python. (It is true that Python has the max() function built in, but writing it yourself is nevertheless a good exercise.)"
   ]
  },
  {
   "cell_type": "code",
   "execution_count": 61,
   "metadata": {
    "collapsed": false
   },
   "outputs": [
    {
     "name": "stdout",
     "output_type": "stream",
     "text": [
      "6is max\n"
     ]
    }
   ],
   "source": [
    "def max(a,b):\n",
    "    if(a>b):\n",
    "        print('{} is max'.format(a))\n",
    "    else:\n",
    "        print('{}is max'.format(b))\n",
    "max(5,6)"
   ]
  },
  {
   "cell_type": "markdown",
   "metadata": {},
   "source": [
    "### Question: Define a function sum() and a function multiply() that sums and multiplies (respectively) all the numbers in a list of numbers. For example, sum([1, 2, 3, 4]) should return 10, and multiply([1, 2, 3, 4]) should return 24."
   ]
  },
  {
   "cell_type": "code",
   "execution_count": 22,
   "metadata": {
    "collapsed": false
   },
   "outputs": [
    {
     "ename": "SyntaxError",
     "evalue": "invalid syntax (<ipython-input-22-972ee79c6623>, line 2)",
     "output_type": "error",
     "traceback": [
      "\u001b[0;36m  File \u001b[0;32m\"<ipython-input-22-972ee79c6623>\"\u001b[0;36m, line \u001b[0;32m2\u001b[0m\n\u001b[0;31m    def sum(l[]):\u001b[0m\n\u001b[0m             ^\u001b[0m\n\u001b[0;31mSyntaxError\u001b[0m\u001b[0;31m:\u001b[0m invalid syntax\n"
     ]
    }
   ],
   "source": [
    "####WRITE YOUR ANSWER HERE\n",
    "def sum(l[]):\n",
    "    for i in l[]\n",
    "    print('Sum of {} + {}'.format(a,b))\n",
    "    result + = l[i]\n",
    "sum([1,2,4])\n",
    "\n",
    "# def mul(a,b):\n",
    "#     print(\"Mul of {} + {}\".format(a,b))\n",
    "#     print(a*b)\n",
    "# mul(2,3)\n",
    "\n"
   ]
  },
  {
   "cell_type": "markdown",
   "metadata": {},
   "source": [
    "### Question: Print the first 100 elements of a Fibonacci series (1, 1, 2, 3, 5, 8, 13, 21, 34, ...)"
   ]
  },
  {
   "cell_type": "code",
   "execution_count": 24,
   "metadata": {
    "collapsed": false
   },
   "outputs": [
    {
     "name": "stdout",
     "output_type": "stream",
     "text": [
      "1\n"
     ]
    },
    {
     "ename": "TypeError",
     "evalue": "unsupported operand type(s) for +: 'int' and 'NoneType'",
     "output_type": "error",
     "traceback": [
      "\u001b[0;31m---------------------------------------------------------------------------\u001b[0m",
      "\u001b[0;31mTypeError\u001b[0m                                 Traceback (most recent call last)",
      "\u001b[0;32m<ipython-input-24-e1dcd1b4a205>\u001b[0m in \u001b[0;36m<module>\u001b[0;34m()\u001b[0m\n\u001b[1;32m      7\u001b[0m \u001b[1;33m\u001b[0m\u001b[0m\n\u001b[1;32m      8\u001b[0m \u001b[1;33m\u001b[0m\u001b[0m\n\u001b[0;32m----> 9\u001b[0;31m \u001b[0mfib\u001b[0m\u001b[1;33m(\u001b[0m\u001b[1;36m5\u001b[0m\u001b[1;33m)\u001b[0m\u001b[1;33m\u001b[0m\u001b[0m\n\u001b[0m\u001b[1;32m     10\u001b[0m \u001b[1;33m\u001b[0m\u001b[0m\n\u001b[1;32m     11\u001b[0m \u001b[1;33m\u001b[0m\u001b[0m\n",
      "\u001b[0;32m<ipython-input-24-e1dcd1b4a205>\u001b[0m in \u001b[0;36mfib\u001b[0;34m(n)\u001b[0m\n\u001b[1;32m      3\u001b[0m     \u001b[1;32mif\u001b[0m \u001b[0mn\u001b[0m \u001b[1;33m==\u001b[0m\u001b[1;36m0\u001b[0m \u001b[1;33m:\u001b[0m \u001b[1;32mreturn\u001b[0m \u001b[1;36m0\u001b[0m\u001b[1;33m\u001b[0m\u001b[0m\n\u001b[1;32m      4\u001b[0m     \u001b[1;32mif\u001b[0m \u001b[0mn\u001b[0m\u001b[1;33m==\u001b[0m\u001b[1;36m1\u001b[0m\u001b[1;33m:\u001b[0m \u001b[1;32mreturn\u001b[0m \u001b[1;36m1\u001b[0m\u001b[1;33m\u001b[0m\u001b[0m\n\u001b[0;32m----> 5\u001b[0;31m     \u001b[1;32melse\u001b[0m\u001b[1;33m:\u001b[0m \u001b[0mprint\u001b[0m\u001b[1;33m(\u001b[0m\u001b[0mfib\u001b[0m\u001b[1;33m(\u001b[0m\u001b[0mn\u001b[0m\u001b[1;33m-\u001b[0m\u001b[1;36m2\u001b[0m\u001b[1;33m)\u001b[0m \u001b[1;33m+\u001b[0m \u001b[0mfib\u001b[0m\u001b[1;33m(\u001b[0m\u001b[0mn\u001b[0m\u001b[1;33m-\u001b[0m\u001b[1;36m1\u001b[0m\u001b[1;33m)\u001b[0m\u001b[1;33m)\u001b[0m\u001b[1;33m\u001b[0m\u001b[0m\n\u001b[0m\u001b[1;32m      6\u001b[0m \u001b[1;33m\u001b[0m\u001b[0m\n\u001b[1;32m      7\u001b[0m \u001b[1;33m\u001b[0m\u001b[0m\n",
      "\u001b[0;32m<ipython-input-24-e1dcd1b4a205>\u001b[0m in \u001b[0;36mfib\u001b[0;34m(n)\u001b[0m\n\u001b[1;32m      3\u001b[0m     \u001b[1;32mif\u001b[0m \u001b[0mn\u001b[0m \u001b[1;33m==\u001b[0m\u001b[1;36m0\u001b[0m \u001b[1;33m:\u001b[0m \u001b[1;32mreturn\u001b[0m \u001b[1;36m0\u001b[0m\u001b[1;33m\u001b[0m\u001b[0m\n\u001b[1;32m      4\u001b[0m     \u001b[1;32mif\u001b[0m \u001b[0mn\u001b[0m\u001b[1;33m==\u001b[0m\u001b[1;36m1\u001b[0m\u001b[1;33m:\u001b[0m \u001b[1;32mreturn\u001b[0m \u001b[1;36m1\u001b[0m\u001b[1;33m\u001b[0m\u001b[0m\n\u001b[0;32m----> 5\u001b[0;31m     \u001b[1;32melse\u001b[0m\u001b[1;33m:\u001b[0m \u001b[0mprint\u001b[0m\u001b[1;33m(\u001b[0m\u001b[0mfib\u001b[0m\u001b[1;33m(\u001b[0m\u001b[0mn\u001b[0m\u001b[1;33m-\u001b[0m\u001b[1;36m2\u001b[0m\u001b[1;33m)\u001b[0m \u001b[1;33m+\u001b[0m \u001b[0mfib\u001b[0m\u001b[1;33m(\u001b[0m\u001b[0mn\u001b[0m\u001b[1;33m-\u001b[0m\u001b[1;36m1\u001b[0m\u001b[1;33m)\u001b[0m\u001b[1;33m)\u001b[0m\u001b[1;33m\u001b[0m\u001b[0m\n\u001b[0m\u001b[1;32m      6\u001b[0m \u001b[1;33m\u001b[0m\u001b[0m\n\u001b[1;32m      7\u001b[0m \u001b[1;33m\u001b[0m\u001b[0m\n",
      "\u001b[0;31mTypeError\u001b[0m: unsupported operand type(s) for +: 'int' and 'NoneType'"
     ]
    }
   ],
   "source": [
    "##WRITE YOUR ANSWER HERE\n",
    "def fib(n):\n",
    "    if n ==0 : return 0\n",
    "    if n==1: return 1\n",
    "    else: print(fib(n-2) + fib(n-1))\n",
    "    \n",
    "   \n",
    "    \n",
    "fib(5)\n",
    "\n",
    "\n"
   ]
  },
  {
   "cell_type": "markdown",
   "metadata": {},
   "source": [
    "### Given  'a' and 'b'. Compute 'c' which is the first 2 chars of 'a' followed by the last 2 chars of 'b'\n",
    "#### a = 'insofe' & b = 'CPEE'"
   ]
  },
  {
   "cell_type": "markdown",
   "metadata": {},
   "source": [
    "### Question:\n",
    "\n",
    "Given the following string, tokenize and print the tokens.\n",
    "Also compute the length of each word and store each length in a list called 'lengths'.\n",
    "\n",
    "string = '''Pizza is a yeasted flatbread generally topped with tomato sauce and cheese and baked in an oven. \n",
    "It is commonly topped with a selection of meats, vegetables and condiments. \n",
    "The term was first recorded in the 10th century, in a Latin manuscript from Gaeta in Central Italy.[1]\n",
    "The modern pizza was invented in Naples, Italy, and the dish and its variants have since become popular and common in many areas of the world.'''\n"
   ]
  },
  {
   "cell_type": "code",
   "execution_count": 25,
   "metadata": {
    "collapsed": false
   },
   "outputs": [
    {
     "name": "stdout",
     "output_type": "stream",
     "text": [
      "['Pizza', 'is', 'a', 'yeasted', 'flatbread', 'generally', 'topped', 'with', 'tomato', 'sauce', 'and', 'cheese', 'and', 'baked', 'in', 'an', 'oven.', 'It', 'is', 'commonly', 'topped', 'with', 'a', 'selection', 'of', 'meats,', 'vegetables', 'and', 'condiments.', 'The', 'term', 'was', 'first', 'recorded', 'in', 'the', '10th', 'century,', 'in', 'a', 'Latin', 'manuscript', 'from', 'Gaeta', 'in', 'Central', 'Italy.[1]', 'The', 'modern', 'pizza', 'was', 'invented', 'in', 'Naples,', 'Italy,', 'and', 'the', 'dish', 'and', 'its', 'variants', 'have', 'since', 'become', 'popular', 'and', 'common', 'in', 'many', 'areas', 'of', 'the', 'world.']\n"
     ]
    }
   ],
   "source": [
    "# Your answer here\n",
    "string = '''Pizza is a yeasted flatbread generally topped with tomato sauce and cheese and baked in an oven. It is commonly topped with a selection of meats, vegetables and condiments. The term was first recorded in the 10th century, in a Latin manuscript from Gaeta in Central Italy.[1] The modern pizza was invented in Naples, Italy, and the dish and its variants have since become popular and common in many areas of the world.'''\n",
    "\n",
    "print(string.split())"
   ]
  },
  {
   "cell_type": "markdown",
   "metadata": {},
   "source": [
    "## Modules\n",
    "\n",
    "Modules are the backbone of python programs. Much like libraries in 'R', these need to be loaded before calling any useful function."
   ]
  },
  {
   "cell_type": "code",
   "execution_count": 26,
   "metadata": {
    "collapsed": false
   },
   "outputs": [
    {
     "name": "stdout",
     "output_type": "stream",
     "text": [
      "64.0\n",
      "14\n"
     ]
    }
   ],
   "source": [
    "#Importing a whole module and accessing any function in it is as follows\n",
    "import math\n",
    "print(math.pow(4, 3))\n",
    "\n",
    "#Imporing a particular function from a module is as follows\n",
    "from random import randint\n",
    "print(randint(2, 39)) #Generates a random integer between 2 and 39\n"
   ]
  },
  {
   "cell_type": "code",
   "execution_count": 58,
   "metadata": {
    "collapsed": true
   },
   "outputs": [],
   "source": [
    "?math.pow #access help in python notebooks using this command"
   ]
  },
  {
   "cell_type": "markdown",
   "metadata": {
    "collapsed": true
   },
   "source": [
    "# Question\n",
    "Given a string\n",
    "string1 = '''At Waterloo we were fortunate in catching a train for Leatherhead, where we hired a trap at the station inn and drove for four or five miles through the lovely Surrey lanes. \n",
    "It was a perfect day, with a bright sun and a few fleecy clouds in the heavens. \n",
    "The trees and wayside hedges were just throwing out their first green shoots, and the air was full of the pleasant smell of the moist earth. To me at least there was a strange contrast between the sweet promise of the spring and this sinister quest upon which we were engaged. \n",
    "My companion sat in the front of the trap, his arms folded, his hat pulled down over his eyes, and his chin sunk upon his breast, buried in the deepest thought. \n",
    "Suddenly, however, he started, tapped me on the shoulder, and pointed over the meadows.\n",
    "''‘\n",
    "\n",
    "\n",
    "1.Create an empty dictionary by name word_counts.\n",
    "2.Split the words in the string.\n",
    "3.In the empty dictionary created, we must have the ‘words’ as keys and their count (occurrences) as values\n",
    "# perform the operations"
   ]
  },
  {
   "cell_type": "code",
   "execution_count": 27,
   "metadata": {
    "collapsed": false
   },
   "outputs": [],
   "source": [
    "#Lets try this out\n",
    "string1 = '''At Waterloo we were fortunate in catching a train for Leatherhead, where we hired a trap at the station inn and drove for four or five miles through the lovely Surrey lanes. \n",
    "It was a perfect day, with a bright sun and a few fleecy clouds in the heavens. \n",
    "The trees and wayside hedges were just throwing out their first green shoots, and the air was full of the pleasant smell of the moist earth. To me at least there was a strange contrast between the sweet promise of the spring and this sinister quest upon which we were engaged. \n",
    "My companion sat in the front of the trap, his arms folded, his hat pulled down over his eyes, and his chin sunk upon his breast, buried in the deepest thought. \n",
    "Suddenly, however, he started, tapped me on the shoulder, and pointed over the meadows.'''\n",
    "\n",
    "# Create an empty dictionary by name word_counts. \n",
    "# Split the words in the string\n",
    "# In the empty dictionary created, we must have the ‘words’ as keys and their count (occurrences) as values"
   ]
  },
  {
   "cell_type": "code",
   "execution_count": 34,
   "metadata": {
    "collapsed": false
   },
   "outputs": [
    {
     "ename": "SyntaxError",
     "evalue": "invalid syntax (<ipython-input-34-9f517b521fc5>, line 4)",
     "output_type": "error",
     "traceback": [
      "\u001b[0;36m  File \u001b[0;32m\"<ipython-input-34-9f517b521fc5>\"\u001b[0;36m, line \u001b[0;32m4\u001b[0m\n\u001b[0;31m    word_counts=dict[]\u001b[0m\n\u001b[0m                     ^\u001b[0m\n\u001b[0;31mSyntaxError\u001b[0m\u001b[0;31m:\u001b[0m invalid syntax\n"
     ]
    }
   ],
   "source": [
    "# YOUR ANSWER HERE\n",
    "\n",
    "# Create an empty dictionary by name word_counts. \n",
    "word_counts=[]\n",
    "\n",
    "# Split the words in the string call it as tokens\n",
    "tokens = string1.split()\n",
    "print(tokens)\n",
    "# count the occurences of each token create anothe list calle it as freq\n",
    "freq =[]\n",
    "\n",
    "# In the empty dictionary created, we must have the ‘words’ as keys and their count (occurrences) as values: \\\\\n",
    "#FOR YOUR  convieniance I have given the code \n",
    "# it forms a dictinary using two lists tokens and freq.\n",
    "word_count=dict(zip(tokens,freq))\n",
    "print(word_count)\n",
    "\n",
    "\n",
    "# SORT the dictionary ADDITIONAL STEP: just inderstand the step by looking at output\n",
    "sorted_dict=sorted(word_count.items(), key=lambda x: x[1])\n",
    "#print(sorted_dict)"
   ]
  },
  {
   "cell_type": "code",
   "execution_count": 36,
   "metadata": {
    "collapsed": false
   },
   "outputs": [
    {
     "ename": "SyntaxError",
     "evalue": "invalid syntax (<ipython-input-36-1680973048d1>, line 10)",
     "output_type": "error",
     "traceback": [
      "\u001b[0;36m  File \u001b[0;32m\"<ipython-input-36-1680973048d1>\"\u001b[0;36m, line \u001b[0;32m10\u001b[0m\n\u001b[0;31m    Import wordcloud from WordCloud\u001b[0m\n\u001b[0m                   ^\u001b[0m\n\u001b[0;31mSyntaxError\u001b[0m\u001b[0;31m:\u001b[0m invalid syntax\n"
     ]
    }
   ],
   "source": [
    "# ADDITIONAL : nOthiNG RELATED TO PREVIOUS CODE\n",
    "#LOOK AT THE CODE AS A BLOCK -see the parameter what we are passing string1\n",
    "\n",
    "string1 = '''At Waterloo we were fortunate in catching a train for Leatherhead, where we hired a trap at the station inn and drove for four or five miles through the lovely Surrey lanes. \n",
    "It was a perfect day, with a bright sun and a few fleecy clouds in the heavens. \n",
    "The trees and wayside hedges were just throwing out their first green shoots, and the air was full of the pleasant smell of the moist earth. To me at least there was a strange contrast between the sweet promise of the spring and this sinister quest upon which we were engaged. \n",
    "My companion sat in the front of the trap, his arms folded, his hat pulled down over his eyes, and his chin sunk upon his breast, buried in the deepest thought. \n",
    "Suddenly, however, he started, tapped me on the shoulder, and pointed over the meadows\n",
    "'''\n",
    "Import wordcloud from WordCloud\n",
    "# Function is  “wordcloud.generate(string1)”. Observe the words.. Some of the words are missing. \n",
    " from wordcloud import WordCloud\n",
    " wordcloud = WordCloud().generate(string1)#stopwords=[]\n",
    " import matplotlib.pyplot as plt\n",
    " %matplotlib inline\n",
    " plt.imshow(wordcloud)\n"
   ]
  },
  {
   "cell_type": "code",
   "execution_count": 38,
   "metadata": {
    "collapsed": false
   },
   "outputs": [],
   "source": [
    "# Pass the argument of stopwords=[] for word cloud and it should generate the cloud with all words\n",
    "\n",
    "# from wordcloud import WordCloud\n",
    "# wordcloud = WordCloud(stopwords=[]).generate(string1)\n",
    "# import matplotlib.pyplot as plt\n",
    "# %matplotlib inline\n",
    "# plt.imshow(wordcloud)"
   ]
  }
 ],
 "metadata": {
  "anaconda-cloud": {},
  "kernelspec": {
   "display_name": "Python [default]",
   "language": "python",
   "name": "python3"
  },
  "language_info": {
   "codemirror_mode": {
    "name": "ipython",
    "version": 3
   },
   "file_extension": ".py",
   "mimetype": "text/x-python",
   "name": "python",
   "nbconvert_exporter": "python",
   "pygments_lexer": "ipython3",
   "version": "3.5.2"
  }
 },
 "nbformat": 4,
 "nbformat_minor": 0
}
