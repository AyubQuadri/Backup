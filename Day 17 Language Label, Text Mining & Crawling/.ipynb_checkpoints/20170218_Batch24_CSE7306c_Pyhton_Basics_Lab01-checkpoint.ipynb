{
 "cells": [
  {
   "cell_type": "markdown",
   "metadata": {},
   "source": [
    "# Basics\n",
    "\n",
    "Press SHIFT+ENTER TO EXECUTE A CELL OF CODE"
   ]
  },
  {
   "cell_type": "code",
   "execution_count": 1,
   "metadata": {
    "collapsed": false,
    "scrolled": true
   },
   "outputs": [
    {
     "name": "stdout",
     "output_type": "stream",
     "text": [
      "2\n",
      "4.08\n",
      "1.5\n",
      "1.5\n",
      "test\n",
      "sample\n",
      "string\n"
     ]
    }
   ],
   "source": [
    "##Comments begin with a '#' symbol.\n",
    "print(1+1)\n",
    "print(1.2*3.4)\n",
    "print(3/2)\n",
    "print(3.0/2)\n",
    "a = 'test'\n",
    "print(a)\n",
    "b = 'sample\\nstring'\n",
    "print(b)\n"
   ]
  },
  {
   "cell_type": "code",
   "execution_count": 2,
   "metadata": {
    "collapsed": false
   },
   "outputs": [
    {
     "name": "stdout",
     "output_type": "stream",
     "text": [
      "['1', 2, 'a', 3, 'hello']\n",
      "5%4 1\n",
      "11%7 4\n",
      "5>4  True\n",
      "False\n",
      "False\n",
      "False\n",
      "True\n",
      "1\n",
      "0\n",
      "1\n",
      "1\n",
      "True\n",
      "False\n",
      "True\n",
      "True\n"
     ]
    }
   ],
   "source": [
    "c = ['1', 2, 'a', 3, 'hello']\n",
    "print(c)\n",
    "print(\"5%4\",5%4) #remainder function.\n",
    "print(\"11%7\",11%7)\n",
    "print(\"5>4  {}\".format(5 > 4))\n",
    "print(5<4)\n",
    "print(5<=4)\n",
    "print(4 == 3)\n",
    "print(5 != 4)\n",
    "print(1&1)\n",
    "print(1&0)\n",
    "print(1|1)\n",
    "print(1|0)\n",
    "print(True&True)\n",
    "print(True&False)\n",
    "print(True|True)\n",
    "print(True|False)"
   ]
  },
  {
   "cell_type": "markdown",
   "metadata": {},
   "source": [
    "# Variable assignments"
   ]
  },
  {
   "cell_type": "code",
   "execution_count": 3,
   "metadata": {
    "collapsed": false
   },
   "outputs": [
    {
     "name": "stdout",
     "output_type": "stream",
     "text": [
      "9\n",
      "1.0\n",
      "18\n",
      "3\n",
      "729\n",
      "729\n"
     ]
    }
   ],
   "source": [
    "x = 3\n",
    "y = 6\n",
    "print(x+y)\n",
    "print(x/3)\n",
    "print(x*y)\n",
    "print(x%y)\n",
    "print(x**y)# \n",
    "print(pow(x,y))\n"
   ]
  },
  {
   "cell_type": "code",
   "execution_count": 4,
   "metadata": {
    "collapsed": false
   },
   "outputs": [
    {
     "name": "stdout",
     "output_type": "stream",
     "text": [
      "ener ur name:ayub\n",
      "ayub\n",
      "enter ur age:12\n",
      "12\n"
     ]
    }
   ],
   "source": [
    "name=input(\"ener ur name:\")\n",
    "print(name)\n",
    "age=input(\"enter ur age:\")\n",
    "print(age)"
   ]
  },
  {
   "cell_type": "code",
   "execution_count": 5,
   "metadata": {
    "collapsed": false
   },
   "outputs": [
    {
     "name": "stdout",
     "output_type": "stream",
     "text": [
      "True\n",
      "3 3\n",
      "3 3\n",
      "3 12\n",
      "1 2 hello\n"
     ]
    }
   ],
   "source": [
    "x,y=3,3\n",
    "print(y == x)\n",
    "print(x, y)\n",
    "x, y = y, x\n",
    "print(x, y)\n",
    "x, y = y, x*y+y\n",
    "print(x, y)\n",
    "x, y, z = 1, '2', 'hello'\n",
    "print(x, y, z)\n"
   ]
  },
  {
   "cell_type": "code",
   "execution_count": 6,
   "metadata": {
    "collapsed": false
   },
   "outputs": [
    {
     "ename": "SyntaxError",
     "evalue": "Missing parentheses in call to 'print' (<ipython-input-6-9365fab3d64e>, line 3)",
     "output_type": "error",
     "traceback": [
      "\u001b[0;36m  File \u001b[0;32m\"<ipython-input-6-9365fab3d64e>\"\u001b[0;36m, line \u001b[0;32m3\u001b[0m\n\u001b[0;31m    print 1 in x\u001b[0m\n\u001b[0m          ^\u001b[0m\n\u001b[0;31mSyntaxError\u001b[0m\u001b[0;31m:\u001b[0m Missing parentheses in call to 'print'\n"
     ]
    }
   ],
   "source": [
    "# in OPERATOR\n",
    "x=[1,2,3]\n",
    "print 1 in x\n",
    "print 5 in x"
   ]
  },
  {
   "cell_type": "markdown",
   "metadata": {},
   "source": [
    "\n",
    "## Print formatting"
   ]
  },
  {
   "cell_type": "code",
   "execution_count": 7,
   "metadata": {
    "collapsed": false
   },
   "outputs": [
    {
     "name": "stdout",
     "output_type": "stream",
     "text": [
      "1\n",
      "the variable x has value:  1\n",
      "the variable x has value: 1\n",
      "1, 2\n",
      "2, 1\n"
     ]
    }
   ],
   "source": [
    "print(x)\n",
    "print('the variable x has value: ', x) #This gives a tuple in python 2.x\n",
    "print('the variable x has value: {}'.format(x))\n",
    "print('{}, {}'.format(x, y))\n",
    "print('{1}, {0}'.format(x, y)) #positional formatting"
   ]
  },
  {
   "cell_type": "markdown",
   "metadata": {},
   "source": [
    "## Loops and Conditional statements"
   ]
  },
  {
   "cell_type": "code",
   "execution_count": 8,
   "metadata": {
    "collapsed": false,
    "scrolled": true
   },
   "outputs": [
    {
     "name": "stdout",
     "output_type": "stream",
     "text": [
      "1\n",
      "2\n",
      "3\n",
      "4\n",
      "1\n",
      "2\n",
      "3\n",
      "4\n",
      "\n",
      "\n",
      "\n",
      "6\n"
     ]
    }
   ],
   "source": [
    "# how to use for\n",
    "for i in [1, 2, 3, 4]:\n",
    "    print(i)\n",
    "# observe the difference between previous for and the bellow for\n",
    "for i in [1, 2, 3, 4]:\n",
    "    print (i), #the difference is a comma\n",
    "\n",
    "print('\\n'*2)\n",
    "#max of two numbers using simple if \n",
    "a,b=5,6\n",
    "if(a>b):\n",
    "    print(a)\n",
    "else:\n",
    "    print(b)\n",
    "\n"
   ]
  },
  {
   "cell_type": "code",
   "execution_count": null,
   "metadata": {
    "collapsed": false
   },
   "outputs": [],
   "source": [
    "# usage of range is to create a sequence\n",
    "range_list = range(5)\n",
    "#above statement is equivalent to \"list = [0, 1, 2, 3, 4]\"\n",
    "print(range_list)\n",
    "print('\\n'*2)\n",
    "# usage of simple else if ladder\n",
    "for i in range_list:\n",
    "    if i < 2:\n",
    "        print('{} < 2'.format(i))\n",
    "    elif i == 2:\n",
    "        print('{} = 2'.format(i))\n",
    "    else:\n",
    "        print('{} > 2'.format(i))\n",
    "print('='*50)"
   ]
  },
  {
   "cell_type": "markdown",
   "metadata": {},
   "source": [
    "### Question: Print all the natural numbers below 100 which are multiples of 3 or 5"
   ]
  },
  {
   "cell_type": "code",
   "execution_count": 13,
   "metadata": {
    "collapsed": false
   },
   "outputs": [],
   "source": [
    "# Your answer here"
   ]
  },
  {
   "cell_type": "markdown",
   "metadata": {},
   "source": [
    "### Write a program which will find all such numbers which are divisible by 11 but are not a multiple of 5, between 2000 and 3200 (both included). The numbers obtained should be printed in a comma-separated sequence on a single line.\n",
    "Hint: Consider use range(#begin, #end) method"
   ]
  },
  {
   "cell_type": "code",
   "execution_count": 62,
   "metadata": {
    "collapsed": false,
    "scrolled": false
   },
   "outputs": [],
   "source": [
    "# Your Answer here"
   ]
  },
  {
   "cell_type": "markdown",
   "metadata": {},
   "source": [
    "## LISTS AND INDEXING"
   ]
  },
  {
   "cell_type": "code",
   "execution_count": 63,
   "metadata": {
    "collapsed": false,
    "scrolled": true
   },
   "outputs": [
    {
     "name": "stdout",
     "output_type": "stream",
     "text": [
      "['Machinelearning', 'TextMIning', 2014, 2016, 1.3]\n",
      "[1, 2, 3, 4, 5]\n",
      "['a', 'b', 'c', 'd']\n",
      "Machinelearning\n",
      "TextMIning\n",
      "2014\n",
      "['Machinelearning', 'TextMIning', 2014, 2016, 1.3]\n",
      "('length of list1', 5)\n",
      "['Machinelearning', 'TextMIning', 2014, 2016, 1.3]\n",
      "[1, 2, 3, 4, 5]\n",
      "[1, 2, 3, 4, 5]\n",
      "['a', 'b', 'c', 'd']\n",
      "['Machinelearning', 'TextMIning', 2014, 2016, 1.3, 1, 2, 3, 4, 5, 'a', 'b', 'c', 'd']\n",
      "['Machinelearning', 'TextMIning', 2014, 2016, 1.3, 'a', 'b']\n",
      "49\n"
     ]
    }
   ],
   "source": [
    "list1 = ['Machinelearning', 'TextMIning', 2014, 2016,1.3]\n",
    "list2 = [1, 2, 3, 4, 5 ];\n",
    "list3 = [\"a\", \"b\", \"c\", \"d\"]\n",
    "print(list1)\n",
    "print(list2)\n",
    "print(list3)\n"
   ]
  },
  {
   "cell_type": "markdown",
   "metadata": {},
   "source": [
    "# Accessing Values from List"
   ]
  },
  {
   "cell_type": "code",
   "execution_count": null,
   "metadata": {
    "collapsed": true
   },
   "outputs": [],
   "source": [
    "#individual elements can be accessed through index\n",
    "print(list1[0])# indexing starts from zero\n",
    "print(list1[1])\n",
    "print(list1[2])\n",
    "print(list1[0:5])# : scope operate can enable you to access multiple elements till 5-1 position\n",
    "print(\"length of list1\",len(list1))## len gives legth (number of elements in list) of list\n",
    "print(list1[0:len(list1)])\n",
    "print(list2[0:6])\n",
    "print(list2[0:len(list2)])\n",
    "print(list3[0:len(list3)])\n",
    "\n",
    "combined=list1+list2+list3\n",
    "print(combined)\n",
    "list1.extend(['a','b'])\n",
    "print(list1)\n",
    "\n",
    "list = [1, 2, 3, 11, 12, 13, 3, 4]\n",
    "print(sum(list))\n"
   ]
  },
  {
   "cell_type": "markdown",
   "metadata": {},
   "source": [
    "## Guess the out put of the following with out executing "
   ]
  },
  {
   "cell_type": "code",
   "execution_count": 116,
   "metadata": {
    "collapsed": false
   },
   "outputs": [],
   "source": [
    "list = [1, 2, 3,'A', '12', 13, 3, 4,'hai']\n",
    "print(list[0:4])\n",
    "print(list[:6])\n",
    "print(list[2:8])"
   ]
  },
  {
   "cell_type": "code",
   "execution_count": 117,
   "metadata": {
    "collapsed": false
   },
   "outputs": [],
   "source": [
    "print(list)\n",
    "print(list[-1]) #prints the last element\n",
    "print(list[-3])\n",
    "print(list[3:-3])"
   ]
  },
  {
   "cell_type": "markdown",
   "metadata": {},
   "source": [
    "# different methods in lists"
   ]
  },
  {
   "cell_type": "code",
   "execution_count": 50,
   "metadata": {
    "collapsed": false
   },
   "outputs": [
    {
     "name": "stdout",
     "output_type": "stream",
     "text": [
      "[1, 2, 3, 11, 12, 13, 3, 4]\n",
      "[1, 2, 3, 11, 12, 13, 3, 4, 0]\n",
      "[1, 2, 3, 11, 12, 13, 3, 4, 0, 12, 13, 14]\n",
      "[1, 2, 3, 11, 12, 13, 3, 4, 0, 12, 13, 14, 1, 2, 3, 4]\n",
      "12\n",
      "0\n",
      "[1, 23, 3, 11, 12, 13, 3, 4, 0, 12, 13, 14]\n"
     ]
    }
   ],
   "source": [
    "list = [1, 2, 3, 11, 12, 13, 3, 4]\n",
    "print(list)\n",
    "list.append(0)\n",
    "print(list)\n",
    "list.extend([12, 13, 14])\n",
    "print(list)\n",
    "print(list+[1,2,3,4])\n",
    "print(len(list))\n",
    "print(list.index(1))\n",
    "list[1]=23# lists can be updated\n",
    "print(list)\n",
    "\n",
    "#just another example use of append\n",
    "l=range(100)\n",
    "print(l)\n",
    "l1=[]\n",
    "for i  in l :\n",
    "    l1.append(i)\n",
    "print(\"after copying\")\n",
    "print(l1)\n",
    "type(l1)\n"
   ]
  },
  {
   "cell_type": "markdown",
   "metadata": {},
   "source": [
    "# List Comprehensions"
   ]
  },
  {
   "cell_type": "code",
   "execution_count": null,
   "metadata": {
    "collapsed": true
   },
   "outputs": [],
   "source": [
    "list = [1, 2, 3, 4, 5, 6]\n",
    "print([i for i in list])\n",
    "print([i*12+3 for i in list])\n",
    "a = [i*12+3 for i in list]\n",
    "print(a)\n",
    "print([i*12 for i in list if i > 2])\n"
   ]
  },
  {
   "cell_type": "markdown",
   "metadata": {},
   "source": [
    "### A String is a list too!!\n",
    "###IT IS CONSIDERED AS A LIST OF CHARACTERS\n",
    "###please observe the output of the following statements"
   ]
  },
  {
   "cell_type": "code",
   "execution_count": 23,
   "metadata": {
    "collapsed": false
   },
   "outputs": [],
   "source": [
    "string = 'Lorem ipsum dolor sit amet, consectetur adipisicing elit, sed do eiusmod tempor incididunt ut labore et dolore magna aliqua. Ut enim ad minim veniam'\n",
    "print(string)\n",
    "print(string[0])\n",
    "print(string[:100])\n",
    "print(string.split())\n",
    "print(string.split('e', 3))\n",
    "print(string.lower())\n",
    "print(string.replace('e', 'a'))\n",
    "print(len(string))\n",
    "print(string.count('sit'))\n",
    "tokens = string.split()\n",
    "print(tokens)\n",
    "print(' '.join(tokens))\n",
    "print(' abc '.join(tokens))"
   ]
  },
  {
   "cell_type": "markdown",
   "metadata": {},
   "source": [
    "## Explore different methods in strings given para_str"
   ]
  },
  {
   "cell_type": "code",
   "execution_count": 26,
   "metadata": {
    "collapsed": false
   },
   "outputs": [],
   "source": [
    "para_str = \"\"\"this test is a long string that is made up of\n",
    "several lines and non-printable characters such as\n",
    "TAB ( \\t ) and they will show up that way when displayed.\n",
    "NEWLINEs within the string,test  whether explicitly given like\n",
    "this within the brackets [ \\n ], or just a NEWLINE within\n",
    "the variable assignment will also test show up.\n",
    "\"\"\"\n",
    "\n",
    "### yOUR CODE HERE\n",
    "# Convert this string to lower case\n",
    "\n",
    "# Covert this string to upper case\n",
    "\n",
    "# Only the first alphabet of this sentence should be capital\n",
    "\n",
    "# Split this string into words and name the list as z.\n",
    "\n",
    "# Replace the word ‘test’ with ‘tested’ in para_str \n",
    "\n",
    "# Replace the word ‘tested’ with ‘test’ in the list para_str.\n",
    "\n",
    "\n",
    "# Now combine the words in the list and make the sentence.\n",
    "\n",
    "\n",
    "# In the new sentence find if there is a letter ‘z’ in it\n",
    "\n",
    "# Replace spaces with hyphens in new sentence. Then make the words uppercase and split on hyphens in a single line\n",
    "\n",
    "#dir(string)\n",
    "\n",
    "#?string.splitlines\n"
   ]
  },
  {
   "cell_type": "markdown",
   "metadata": {},
   "source": [
    "## SETS"
   ]
  },
  {
   "cell_type": "code",
   "execution_count": 97,
   "metadata": {
    "collapsed": false
   },
   "outputs": [
    {
     "name": "stdout",
     "output_type": "stream",
     "text": [
      "['A', 'B', 'C', 'D', 'E', 'A']\n",
      "operations on sets\n",
      "True\n",
      "{'A', 'B', 'C', 'D', 'E'}\n",
      "{'A'}\n",
      "{'C', 'B', 'E', 'D'}\n",
      "True\n",
      "{'A', 'B', 'C', 'D', 'E'}\n",
      "{'A'}\n",
      "{'C', 'B', 'E', 'D'}\n",
      "True\n",
      "False\n",
      "{'d', 'r'}\n",
      "{'A'}\n"
     ]
    }
   ],
   "source": [
    "\n",
    "l1=['A','B','C','D','E']\n",
    "l2=['A']\n",
    "print(l1+l2)\n",
    "print(\"operations on sets\")\n",
    "s1=set(l1)\n",
    "s2=set(l2)\n",
    "print(s1.issuperset(s2))#s1>=s2\n",
    "print(s1.union(s2))#s1|s2\n",
    "print(s1.intersection(s2))#s1&s2\n",
    "print(s1.difference(s2))#s1-s2\n",
    "#JUST CHECKING ALL OPERATIONS\n",
    "print(s1>=s2)#\n",
    "print(s1|s2)#s1|s2\n",
    "print(s1&s2)#s1&s2\n",
    "print(s1-s2)#s1-s2\n",
    "# usage of 'in' operator with sets\n",
    "print('A' in l1)\n",
    "print('F' in l2)\n",
    "#just some additional things \n",
    "# set comprehension\n",
    "a = {x for x in 'abracadabra' if x not in 'abc'}\n",
    "print(a)\n",
    "b={x for x in s1 if x  in s2}\n",
    "print(b)\n"
   ]
  },
  {
   "cell_type": "markdown",
   "metadata": {},
   "source": [
    "## Tuples"
   ]
  },
  {
   "cell_type": "code",
   "execution_count": 98,
   "metadata": {
    "collapsed": false
   },
   "outputs": [
    {
     "name": "stdout",
     "output_type": "stream",
     "text": [
      "(1, 2, 3)\n",
      "((1, 2, 3), (5, 10, 15))\n",
      "(1, 2, 3)\n",
      "(5, 10, 15)\n",
      "2\n",
      "3\n",
      "([1, 2, 3], ['hai', 'python', '2.7'], 'welcome')\n",
      "([10, 2, 3], ['hai', 'python', '2.7'], 'welcome')\n",
      "x is 1\n",
      "2\n",
      "3\n",
      "True\n",
      "False\n"
     ]
    }
   ],
   "source": [
    "t1=(1,2,3) # 1,2,3\n",
    "print (t1)\n",
    "type(t)\n",
    "# tuples can be nested\n",
    "t2=((1,2,3),(5,10,15)) # or (1,2,3),(5,10,15)\n",
    "print(t2)\n",
    "print(t2[0])\n",
    "print(t2[1])\n",
    "print(t2[0][1])\n",
    "print(t2[0][2])\n",
    "#t2[0]=4,5,6 # generates error tuples are immutable\n",
    "#print(t2) # generates error tuples are immutable\n",
    "\n",
    "# but tuple can contain mutable objects\n",
    "t3=([1,2,3],['hai','python','2.7'],\"welcome\")\n",
    "print(t3)\n",
    "t3[0][0]=10# i am updating list present in tuple\n",
    "print(t3)\n",
    "# you can also assign a tuple to multiple variables \n",
    "x,y,z=t1\n",
    "print(\"x is\",x)\n",
    "print(y)\n",
    "print(z)\n",
    "# usage of 'in' with tuples\n",
    "print(1 in t1)\n",
    "print(9 in t1)\n"
   ]
  },
  {
   "cell_type": "markdown",
   "metadata": {},
   "source": [
    "## Dictionaries\n"
   ]
  },
  {
   "cell_type": "code",
   "execution_count": 120,
   "metadata": {
    "collapsed": false
   },
   "outputs": [],
   "source": [
    "my_dict = {'key1':'value1', 4.0:'4', '3':3.22, 'list':['a', 'b', 3], 'key2':'value2'}\n",
    "print(my_dict['key1'])\n",
    "print(my_dict['3'])\n",
    "print(my_dict[4])\n",
    "my_dict['3'] += 1\n",
    "print(my_dict['3'])\n",
    "# print(my_dict[3])\n",
    "print(my_dict['list'])\n",
    "print('keys --> {}'.format(my_dict.keys()))\n",
    "print('values --> {}'.format(my_dict.values()))"
   ]
  },
  {
   "cell_type": "code",
   "execution_count": 121,
   "metadata": {
    "collapsed": false
   },
   "outputs": [],
   "source": [
    "c1 = {'word1': 1000, 'word2':299}\n",
    "c2 = {'word2': 300, 'word1':30}\n",
    "\n",
    "word_count = c1.copy()\n",
    "word_count.update(c2)\n",
    "\n",
    "# print(word_count)"
   ]
  },
  {
   "cell_type": "markdown",
   "metadata": {},
   "source": [
    "## Functions\n"
   ]
  },
  {
   "cell_type": "code",
   "execution_count": 32,
   "metadata": {
    "collapsed": false
   },
   "outputs": [
    {
     "data": {
      "text/plain": [
       "12"
      ]
     },
     "execution_count": 32,
     "metadata": {},
     "output_type": "execute_result"
    }
   ],
   "source": [
    "def mult(input1, input2):\n",
    "    product = input1*input2\n",
    "    return(product)\n",
    "\n",
    "mult(3, 4)"
   ]
  },
  {
   "cell_type": "markdown",
   "metadata": {},
   "source": [
    "### Question: Define a function max() that takes two numbers as arguments and returns the largest of them. Use the if-then-else construct available in Python. (It is true that Python has the max() function built in, but writing it yourself is nevertheless a good exercise.)"
   ]
  },
  {
   "cell_type": "code",
   "execution_count": 61,
   "metadata": {
    "collapsed": false
   },
   "outputs": [
    {
     "name": "stdout",
     "output_type": "stream",
     "text": [
      "6is max\n"
     ]
    }
   ],
   "source": [
    "def max(a,b):\n",
    "    if(a>b):\n",
    "        print('{} is max'.format(a))\n",
    "    else:\n",
    "        print('{}is max'.format(b))\n",
    "max(5,6)"
   ]
  },
  {
   "cell_type": "markdown",
   "metadata": {},
   "source": [
    "### Question: Define a function sum() and a function multiply() that sums and multiplies (respectively) all the numbers in a list of numbers. For example, sum([1, 2, 3, 4]) should return 10, and multiply([1, 2, 3, 4]) should return 24."
   ]
  },
  {
   "cell_type": "code",
   "execution_count": null,
   "metadata": {
    "collapsed": true
   },
   "outputs": [],
   "source": [
    "####WRITE YOUR ANSWER HERE\n"
   ]
  },
  {
   "cell_type": "markdown",
   "metadata": {},
   "source": [
    "### Question: Print the first 100 elements of a Fibonacci series (1, 1, 2, 3, 5, 8, 13, 21, 34, ...)"
   ]
  },
  {
   "cell_type": "code",
   "execution_count": 26,
   "metadata": {
    "collapsed": false
   },
   "outputs": [
    {
     "name": "stdout",
     "output_type": "stream",
     "text": [
      "[1, 1, 2, 3, 5, 8, 13, 21, 34, 55, 89, 144, 233, 377, 610, 987, 1597, 2584, 4181, 6765, 10946, 17711, 28657, 46368, 75025, 121393, 196418, 317811, 514229, 832040, 1346269, 2178309, 3524578, 5702887, 9227465, 14930352, 24157817, 39088169, 63245986, 102334155, 165580141, 267914296, 433494437, 701408733, 1134903170, 1836311903, 2971215073L, 4807526976L, 7778742049L, 12586269025L, 20365011074L, 32951280099L, 53316291173L, 86267571272L, 139583862445L, 225851433717L, 365435296162L, 591286729879L, 956722026041L, 1548008755920L, 2504730781961L, 4052739537881L, 6557470319842L, 10610209857723L, 17167680177565L, 27777890035288L, 44945570212853L, 72723460248141L, 117669030460994L, 190392490709135L, 308061521170129L, 498454011879264L, 806515533049393L, 1304969544928657L, 2111485077978050L, 3416454622906707L, 5527939700884757L, 8944394323791464L, 14472334024676221L, 23416728348467685L, 37889062373143906L, 61305790721611591L, 99194853094755497L, 160500643816367088L, 259695496911122585L, 420196140727489673L, 679891637638612258L, 1100087778366101931L, 1779979416004714189L, 2880067194370816120L, 4660046610375530309L, 7540113804746346429L, 12200160415121876738L, 19740274219868223167L, 31940434634990099905L, 51680708854858323072L, 83621143489848422977L, 135301852344706746049L, 218922995834555169026L]\n"
     ]
    }
   ],
   "source": [
    "##WRITE YOUR ANSWER HERE\n"
   ]
  },
  {
   "cell_type": "markdown",
   "metadata": {},
   "source": [
    "### Given  'a' and 'b'. Compute 'c' which is the first 2 chars of 'a' followed by the last 2 chars of 'b'\n",
    "#### a = 'insofe' & b = 'CPEE'"
   ]
  },
  {
   "cell_type": "markdown",
   "metadata": {},
   "source": [
    "### Question:\n",
    "\n",
    "Given the following string, tokenize and print the tokens.\n",
    "Also compute the length of each word and store each length in a list called 'lengths'.\n",
    "\n",
    "string = '''Pizza is a yeasted flatbread generally topped with tomato sauce and cheese and baked in an oven. \n",
    "It is commonly topped with a selection of meats, vegetables and condiments. \n",
    "The term was first recorded in the 10th century, in a Latin manuscript from Gaeta in Central Italy.[1]\n",
    "The modern pizza was invented in Naples, Italy, and the dish and its variants have since become popular and common in many areas of the world.'''\n"
   ]
  },
  {
   "cell_type": "code",
   "execution_count": null,
   "metadata": {
    "collapsed": true
   },
   "outputs": [],
   "source": [
    "# Your answer here\n"
   ]
  },
  {
   "cell_type": "markdown",
   "metadata": {},
   "source": [
    "## Modules\n",
    "\n",
    "Modules are the backbone of python programs. Much like libraries in 'R', these need to be loaded before calling any useful function."
   ]
  },
  {
   "cell_type": "code",
   "execution_count": 66,
   "metadata": {
    "collapsed": false
   },
   "outputs": [
    {
     "name": "stdout",
     "output_type": "stream",
     "text": [
      "64.0\n",
      "3\n"
     ]
    }
   ],
   "source": [
    "#Importing a whole module and accessing any function in it is as follows\n",
    "import math\n",
    "print(math.pow(4, 3))\n",
    "\n",
    "#Imporing a particular function from a module is as follows\n",
    "from random import randint\n",
    "print(randint(2, 39)) #Generates a random integer between 2 and 39\n"
   ]
  },
  {
   "cell_type": "code",
   "execution_count": 58,
   "metadata": {
    "collapsed": true
   },
   "outputs": [],
   "source": [
    "?math.pow #access help in python notebooks using this command"
   ]
  },
  {
   "cell_type": "markdown",
   "metadata": {
    "collapsed": true
   },
   "source": [
    "# Question\n",
    "Given a string\n",
    "string1 = '''At Waterloo we were fortunate in catching a train for Leatherhead, where we hired a trap at the station inn and drove for four or five miles through the lovely Surrey lanes. \n",
    "It was a perfect day, with a bright sun and a few fleecy clouds in the heavens. \n",
    "The trees and wayside hedges were just throwing out their first green shoots, and the air was full of the pleasant smell of the moist earth. To me at least there was a strange contrast between the sweet promise of the spring and this sinister quest upon which we were engaged. \n",
    "My companion sat in the front of the trap, his arms folded, his hat pulled down over his eyes, and his chin sunk upon his breast, buried in the deepest thought. \n",
    "Suddenly, however, he started, tapped me on the shoulder, and pointed over the meadows.\n",
    "''‘\n",
    "\n",
    "\n",
    "1.Create an empty dictionary by name word_counts.\n",
    "2.Split the words in the string.\n",
    "3.In the empty dictionary created, we must have the ‘words’ as keys and their count (occurrences) as values\n",
    "# perform the operations"
   ]
  },
  {
   "cell_type": "code",
   "execution_count": 35,
   "metadata": {
    "collapsed": false
   },
   "outputs": [],
   "source": [
    "#Lets try this out\n",
    "string1 = '''At Waterloo we were fortunate in catching a train for Leatherhead, where we hired a trap at the station inn and drove for four or five miles through the lovely Surrey lanes. \n",
    "It was a perfect day, with a bright sun and a few fleecy clouds in the heavens. \n",
    "The trees and wayside hedges were just throwing out their first green shoots, and the air was full of the pleasant smell of the moist earth. To me at least there was a strange contrast between the sweet promise of the spring and this sinister quest upon which we were engaged. \n",
    "My companion sat in the front of the trap, his arms folded, his hat pulled down over his eyes, and his chin sunk upon his breast, buried in the deepest thought. \n",
    "Suddenly, however, he started, tapped me on the shoulder, and pointed over the meadows.'''\n",
    "\n",
    "# Create an empty dictionary by name word_counts. \n",
    "# Split the words in the string\n",
    "# In the empty dictionary created, we must have the ‘words’ as keys and their count (occurrences) as values"
   ]
  },
  {
   "cell_type": "code",
   "execution_count": 30,
   "metadata": {
    "collapsed": false
   },
   "outputs": [],
   "source": [
    "# YOUR ANSWER HERE\n",
    "\n",
    "# Create an empty dictionary by name word_counts. \n",
    "\n",
    "\n",
    "# Split the words in the string call it as tokens\n",
    "\n",
    "\n",
    "# count the occurences of each token create anothe list calle it as freq\n",
    "\n",
    "\n",
    "# In the empty dictionary created, we must have the ‘words’ as keys and their count (occurrences) as values: \\\\\n",
    "#FOR YOUR  convieniance I have given the code \n",
    "# it forms a dictinary using two lists tokens and freq.\n",
    "word_count=dict(zip(tokens,freq))\n",
    "#print(word_count)\n",
    "\n",
    "\n",
    "# SORT the dictionary ADDITIONAL STEP: just inderstand the step by looking at output\n",
    "sorted_dict=sorted(word_count.items(), key=lambda x: x[1])\n",
    "#print(sorted_dict)"
   ]
  },
  {
   "cell_type": "code",
   "execution_count": 37,
   "metadata": {
    "collapsed": false
   },
   "outputs": [],
   "source": [
    "# ADDITIONAL : nOthiNG RELATED TO PREVIOUS CODE\n",
    "#LOOK AT THE CODE AS A BLOCK -see the parameter what we are passing string1\n",
    "\n",
    "string1 = '''At Waterloo we were fortunate in catching a train for Leatherhead, where we hired a trap at the station inn and drove for four or five miles through the lovely Surrey lanes. \n",
    "It was a perfect day, with a bright sun and a few fleecy clouds in the heavens. \n",
    "The trees and wayside hedges were just throwing out their first green shoots, and the air was full of the pleasant smell of the moist earth. To me at least there was a strange contrast between the sweet promise of the spring and this sinister quest upon which we were engaged. \n",
    "My companion sat in the front of the trap, his arms folded, his hat pulled down over his eyes, and his chin sunk upon his breast, buried in the deepest thought. \n",
    "Suddenly, however, he started, tapped me on the shoulder, and pointed over the meadows\n",
    "'''\n",
    "# Import wordcloud from WordCloud\n",
    "# Function is  “wordcloud.generate(string1)”. Observe the words.. Some of the words are missing. \n",
    "# from wordcloud import WordCloud\n",
    "# wordcloud = WordCloud().generate(string1)#stopwords=[]\n",
    "# import matplotlib.pyplot as plt\n",
    "# %matplotlib inline\n",
    "# plt.imshow(wordcloud)\n"
   ]
  },
  {
   "cell_type": "code",
   "execution_count": 38,
   "metadata": {
    "collapsed": false
   },
   "outputs": [],
   "source": [
    "# Pass the argument of stopwords=[] for word cloud and it should generate the cloud with all words\n",
    "\n",
    "# from wordcloud import WordCloud\n",
    "# wordcloud = WordCloud(stopwords=[]).generate(string1)\n",
    "# import matplotlib.pyplot as plt\n",
    "# %matplotlib inline\n",
    "# plt.imshow(wordcloud)"
   ]
  }
 ],
 "metadata": {
  "anaconda-cloud": {},
  "kernelspec": {
   "display_name": "Python [default]",
   "language": "python",
   "name": "python3"
  },
  "language_info": {
   "codemirror_mode": {
    "name": "ipython",
    "version": 3
   },
   "file_extension": ".py",
   "mimetype": "text/x-python",
   "name": "python",
   "nbconvert_exporter": "python",
   "pygments_lexer": "ipython3",
   "version": "3.5.2"
  }
 },
 "nbformat": 4,
 "nbformat_minor": 0
}
